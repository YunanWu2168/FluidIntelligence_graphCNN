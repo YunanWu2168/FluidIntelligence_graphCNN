{
 "cells": [
  {
   "cell_type": "markdown",
   "metadata": {},
   "source": [
    "## 1. Load the package"
   ]
  },
  {
   "cell_type": "code",
   "execution_count": 1,
   "metadata": {
    "collapsed": true
   },
   "outputs": [],
   "source": [
    "import os, shutil\n",
    "os.environ['TF_CPP_MIN_LOG_LEVEL'] = '3' \n",
    "\n",
    "import warnings\n",
    "warnings.filterwarnings('ignore')\n",
    "\n",
    "from tensorflow.python.util import deprecation\n",
    "deprecation._PRINT_DEPRECATION_WARNINGS = False\n",
    "\n",
    "import pandas as pd\n",
    "import numpy as np\n",
    "\n",
    "from sklearn.preprocessing import LabelEncoder\n",
    "from sklearn.model_selection import train_test_split\n",
    "\n",
    "from sklearn.preprocessing import MinMaxScaler\n",
    "from sklearn.preprocessing import StandardScaler\n",
    "\n",
    "from utils.labels_preprocessing import load_labels\n",
    "from utils.load_synced_inputs import load_inputs\n",
    "from utils.load_graphs import load_graph\n",
    "\n",
    "from cnn_graph.resnetgraph import cgcnn\n",
    "from cnn_graph import graph\n",
    "\n",
    "import tensorflow as tf\n",
    "\n",
    "from matplotlib import pyplot as plt\n",
    "\n",
    "np.random.seed(42)\n",
    "tf.set_random_seed(42)"
   ]
  },
  {
   "cell_type": "markdown",
   "metadata": {},
   "source": [
    "## 2. Establish Directories for Data Extraction"
   ]
  },
  {
   "cell_type": "code",
   "execution_count": 2,
   "metadata": {
    "collapsed": true
   },
   "outputs": [],
   "source": [
    "home = f\"{os.getcwd()}/..\"\n",
    "\n",
    "graphs_dir = f\"{home}/Graphs/\"            # directory containing necessary graphs\n",
    "subcortical_dir = '.../Data/abcd challenge/training/Subcortex'"
   ]
  },
  {
   "cell_type": "code",
   "execution_count": 4,
   "metadata": {},
   "outputs": [
    {
     "name": "stdout",
     "output_type": "stream",
     "text": [
      "8071\n",
      "8071\n"
     ]
    }
   ],
   "source": [
    "filenames = [f for f in sorted(os.listdir(subcortical_dir))]\n",
    "filenames_2 = [f for f in os.listdir(subcortical_dir)]\n",
    "# assert filenames == filenames_2\n",
    "    \n",
    "print(len(filenames))\n",
    "print(len(filenames_2))\n",
    "# assert filenames == filenames_2"
   ]
  },
  {
   "cell_type": "markdown",
   "metadata": {},
   "source": [
    "## 3. Load Labels"
   ]
  },
  {
   "cell_type": "code",
   "execution_count": 6,
   "metadata": {},
   "outputs": [
    {
     "data": {
      "text/html": [
       "<div>\n",
       "<style scoped>\n",
       "    .dataframe tbody tr th:only-of-type {\n",
       "        vertical-align: middle;\n",
       "    }\n",
       "\n",
       "    .dataframe tbody tr th {\n",
       "        vertical-align: top;\n",
       "    }\n",
       "\n",
       "    .dataframe thead th {\n",
       "        text-align: right;\n",
       "    }\n",
       "</style>\n",
       "<table border=\"1\" class=\"dataframe\">\n",
       "  <thead>\n",
       "    <tr style=\"text-align: right;\">\n",
       "      <th></th>\n",
       "      <th>Subject</th>\n",
       "      <th>Sex</th>\n",
       "      <th>Age</th>\n",
       "      <th>Cognition Fluid Composite Uncorrected Standard Score</th>\n",
       "      <th>Cognition Fluid Composite Age-Corrected Standard Score</th>\n",
       "    </tr>\n",
       "  </thead>\n",
       "  <tbody>\n",
       "    <tr>\n",
       "      <th>0</th>\n",
       "      <td>NDAR_INV005V6D2C</td>\n",
       "      <td>F</td>\n",
       "      <td>121</td>\n",
       "      <td>90.0</td>\n",
       "      <td>90.0</td>\n",
       "    </tr>\n",
       "    <tr>\n",
       "      <th>1</th>\n",
       "      <td>NDAR_INV007W6H7B</td>\n",
       "      <td>M</td>\n",
       "      <td>126</td>\n",
       "      <td>101.0</td>\n",
       "      <td>104.0</td>\n",
       "    </tr>\n",
       "    <tr>\n",
       "      <th>2</th>\n",
       "      <td>NDAR_INV00CY2MDM</td>\n",
       "      <td>M</td>\n",
       "      <td>130</td>\n",
       "      <td>85.0</td>\n",
       "      <td>85.0</td>\n",
       "    </tr>\n",
       "    <tr>\n",
       "      <th>3</th>\n",
       "      <td>NDAR_INV00HEV6HB</td>\n",
       "      <td>M</td>\n",
       "      <td>124</td>\n",
       "      <td>90.0</td>\n",
       "      <td>88.0</td>\n",
       "    </tr>\n",
       "    <tr>\n",
       "      <th>4</th>\n",
       "      <td>NDAR_INV00LH735Y</td>\n",
       "      <td>M</td>\n",
       "      <td>109</td>\n",
       "      <td>77.0</td>\n",
       "      <td>75.0</td>\n",
       "    </tr>\n",
       "    <tr>\n",
       "      <th>5</th>\n",
       "      <td>NDAR_INV00LJVZK2</td>\n",
       "      <td>M</td>\n",
       "      <td>121</td>\n",
       "      <td>86.0</td>\n",
       "      <td>81.0</td>\n",
       "    </tr>\n",
       "    <tr>\n",
       "      <th>6</th>\n",
       "      <td>NDAR_INV00NPMHND</td>\n",
       "      <td>F</td>\n",
       "      <td>118</td>\n",
       "      <td>77.0</td>\n",
       "      <td>74.0</td>\n",
       "    </tr>\n",
       "    <tr>\n",
       "      <th>7</th>\n",
       "      <td>NDAR_INV00R4TXET</td>\n",
       "      <td>F</td>\n",
       "      <td>114</td>\n",
       "      <td>104.0</td>\n",
       "      <td>118.0</td>\n",
       "    </tr>\n",
       "  </tbody>\n",
       "</table>\n",
       "</div>"
      ],
      "text/plain": [
       "            Subject Sex  Age  \\\n",
       "0  NDAR_INV005V6D2C   F  121   \n",
       "1  NDAR_INV007W6H7B   M  126   \n",
       "2  NDAR_INV00CY2MDM   M  130   \n",
       "3  NDAR_INV00HEV6HB   M  124   \n",
       "4  NDAR_INV00LH735Y   M  109   \n",
       "5  NDAR_INV00LJVZK2   M  121   \n",
       "6  NDAR_INV00NPMHND   F  118   \n",
       "7  NDAR_INV00R4TXET   F  114   \n",
       "\n",
       "   Cognition Fluid Composite Uncorrected Standard Score  \\\n",
       "0                                               90.0      \n",
       "1                                              101.0      \n",
       "2                                               85.0      \n",
       "3                                               90.0      \n",
       "4                                               77.0      \n",
       "5                                               86.0      \n",
       "6                                               77.0      \n",
       "7                                              104.0      \n",
       "\n",
       "   Cognition Fluid Composite Age-Corrected Standard Score  \n",
       "0                                               90.0       \n",
       "1                                              104.0       \n",
       "2                                               85.0       \n",
       "3                                               88.0       \n",
       "4                                               75.0       \n",
       "5                                               81.0       \n",
       "6                                               74.0       \n",
       "7                                              118.0       "
      ]
     },
     "execution_count": 6,
     "metadata": {},
     "output_type": "execute_result"
    }
   ],
   "source": [
    "Path = '.../abcd.csv'\n",
    "df = pd.read_csv(Path)\n",
    "df_fluid = df[['Subject','Sex','Age','Cognition Fluid Composite Uncorrected Standard Score','Cognition Fluid Composite Age-Corrected Standard Score']]   # choose the columns you want\n",
    "df_new = df_fluid.dropna(subset=['Cognition Fluid Composite Uncorrected Standard Score'])                                       # drop the Nan rows\n",
    "df_new.head(8)"
   ]
  },
  {
   "cell_type": "code",
   "execution_count": 7,
   "metadata": {},
   "outputs": [
    {
     "data": {
      "image/png": "[encoded data removed]",
      "text/plain": [
       "<Figure size 432x288 with 1 Axes>"
      ]
     },
     "metadata": {
      "needs_background": "light"
     },
     "output_type": "display_data"
    }
   ],
   "source": [
    "#show the distribution \n",
    "s = np.random.normal(0, 1, df_new.shape[0])\n",
    "import matplotlib.pyplot as plt\n",
    "count, bins, ignored = plt.hist(s, 30, density=True)\n",
    "plt.plot(bins, 1/( np.sqrt(2 * np.pi)) *\n",
    "                np.exp( - (bins )**2 / (2) ),\n",
    "          linewidth=2, color='r')\n",
    "plt.show()"
   ]
  },
  {
   "cell_type": "code",
   "execution_count": 8,
   "metadata": {
    "collapsed": true
   },
   "outputs": [],
   "source": [
    "def quantile_normalize_using_target(x, target):\n",
    "    \"\"\"\n",
    "    Both `x` and `target` are numpy arrays of equal lengths.\n",
    "    \"\"\"\n",
    "\n",
    "    target_sorted = np.sort(target)\n",
    "\n",
    "    return target_sorted[x.argsort().argsort()]"
   ]
  },
  {
   "cell_type": "code",
   "execution_count": 9,
   "metadata": {},
   "outputs": [
    {
     "name": "stdout",
     "output_type": "stream",
     "text": [
      "[-0.24633528  0.81573721 -0.69569488 ...  1.05993638  1.29075842\n",
      " -1.94937176]\n"
     ]
    },
    {
     "data": {
      "text/html": [
       "<div>\n",
       "<style scoped>\n",
       "    .dataframe tbody tr th:only-of-type {\n",
       "        vertical-align: middle;\n",
       "    }\n",
       "\n",
       "    .dataframe tbody tr th {\n",
       "        vertical-align: top;\n",
       "    }\n",
       "\n",
       "    .dataframe thead th {\n",
       "        text-align: right;\n",
       "    }\n",
       "</style>\n",
       "<table border=\"1\" class=\"dataframe\">\n",
       "  <thead>\n",
       "    <tr style=\"text-align: right;\">\n",
       "      <th></th>\n",
       "      <th>Subject</th>\n",
       "      <th>Sex</th>\n",
       "      <th>Age</th>\n",
       "      <th>Cognition Fluid Composite Uncorrected Standard Score</th>\n",
       "      <th>Cognition Fluid Composite Age-Corrected Standard Score</th>\n",
       "      <th>CogFluidComp_nor</th>\n",
       "    </tr>\n",
       "  </thead>\n",
       "  <tbody>\n",
       "    <tr>\n",
       "      <th>0</th>\n",
       "      <td>NDAR_INV005V6D2C</td>\n",
       "      <td>F</td>\n",
       "      <td>121</td>\n",
       "      <td>90.0</td>\n",
       "      <td>90.0</td>\n",
       "      <td>-0.246335</td>\n",
       "    </tr>\n",
       "    <tr>\n",
       "      <th>1</th>\n",
       "      <td>NDAR_INV007W6H7B</td>\n",
       "      <td>M</td>\n",
       "      <td>126</td>\n",
       "      <td>101.0</td>\n",
       "      <td>104.0</td>\n",
       "      <td>0.815737</td>\n",
       "    </tr>\n",
       "    <tr>\n",
       "      <th>2</th>\n",
       "      <td>NDAR_INV00CY2MDM</td>\n",
       "      <td>M</td>\n",
       "      <td>130</td>\n",
       "      <td>85.0</td>\n",
       "      <td>85.0</td>\n",
       "      <td>-0.695695</td>\n",
       "    </tr>\n",
       "    <tr>\n",
       "      <th>3</th>\n",
       "      <td>NDAR_INV00HEV6HB</td>\n",
       "      <td>M</td>\n",
       "      <td>124</td>\n",
       "      <td>90.0</td>\n",
       "      <td>88.0</td>\n",
       "      <td>-0.317715</td>\n",
       "    </tr>\n",
       "    <tr>\n",
       "      <th>4</th>\n",
       "      <td>NDAR_INV00LH735Y</td>\n",
       "      <td>M</td>\n",
       "      <td>109</td>\n",
       "      <td>77.0</td>\n",
       "      <td>75.0</td>\n",
       "      <td>-1.422254</td>\n",
       "    </tr>\n",
       "    <tr>\n",
       "      <th>5</th>\n",
       "      <td>NDAR_INV00LJVZK2</td>\n",
       "      <td>M</td>\n",
       "      <td>121</td>\n",
       "      <td>86.0</td>\n",
       "      <td>81.0</td>\n",
       "      <td>-0.630846</td>\n",
       "    </tr>\n",
       "    <tr>\n",
       "      <th>6</th>\n",
       "      <td>NDAR_INV00NPMHND</td>\n",
       "      <td>F</td>\n",
       "      <td>118</td>\n",
       "      <td>77.0</td>\n",
       "      <td>74.0</td>\n",
       "      <td>-1.416269</td>\n",
       "    </tr>\n",
       "    <tr>\n",
       "      <th>7</th>\n",
       "      <td>NDAR_INV00R4TXET</td>\n",
       "      <td>F</td>\n",
       "      <td>114</td>\n",
       "      <td>104.0</td>\n",
       "      <td>118.0</td>\n",
       "      <td>1.177185</td>\n",
       "    </tr>\n",
       "  </tbody>\n",
       "</table>\n",
       "</div>"
      ],
      "text/plain": [
       "            Subject Sex  Age  \\\n",
       "0  NDAR_INV005V6D2C   F  121   \n",
       "1  NDAR_INV007W6H7B   M  126   \n",
       "2  NDAR_INV00CY2MDM   M  130   \n",
       "3  NDAR_INV00HEV6HB   M  124   \n",
       "4  NDAR_INV00LH735Y   M  109   \n",
       "5  NDAR_INV00LJVZK2   M  121   \n",
       "6  NDAR_INV00NPMHND   F  118   \n",
       "7  NDAR_INV00R4TXET   F  114   \n",
       "\n",
       "   Cognition Fluid Composite Uncorrected Standard Score  \\\n",
       "0                                               90.0      \n",
       "1                                              101.0      \n",
       "2                                               85.0      \n",
       "3                                               90.0      \n",
       "4                                               77.0      \n",
       "5                                               86.0      \n",
       "6                                               77.0      \n",
       "7                                              104.0      \n",
       "\n",
       "   Cognition Fluid Composite Age-Corrected Standard Score  CogFluidComp_nor  \n",
       "0                                               90.0              -0.246335  \n",
       "1                                              104.0               0.815737  \n",
       "2                                               85.0              -0.695695  \n",
       "3                                               88.0              -0.317715  \n",
       "4                                               75.0              -1.422254  \n",
       "5                                               81.0              -0.630846  \n",
       "6                                               74.0              -1.416269  \n",
       "7                                              118.0               1.177185  "
      ]
     },
     "execution_count": 9,
     "metadata": {},
     "output_type": "execute_result"
    }
   ],
   "source": [
    "xx = quantile_normalize_using_target(df_new['Cognition Fluid Composite Uncorrected Standard Score'].as_matrix(),s)\n",
    "encoded_labels = xx\n",
    "print(encoded_labels)\n",
    "\n",
    "df_new['CogFluidComp_nor'] = pd.DataFrame({'CogFluidComp_nor': xx})\n",
    "df_new.head(8)"
   ]
  },
  {
   "cell_type": "code",
   "execution_count": 10,
   "metadata": {},
   "outputs": [
    {
     "name": "stdout",
     "output_type": "stream",
     "text": [
      "['SubCortical_NDAR_INV005V6D2C.mat', 'SubCortical_NDAR_INV007W6H7B.mat', 'SubCortical_NDAR_INV00CY2MDM.mat', 'SubCortical_NDAR_INV00HEV6HB.mat', 'SubCortical_NDAR_INV00LH735Y.mat', 'SubCortical_NDAR_INV00LJVZK2.mat', 'SubCortical_NDAR_INV00NPMHND.mat', 'SubCortical_NDAR_INV00R4TXET.mat', 'SubCortical_NDAR_INV00U4FTRU.mat', 'SubCortical_NDAR_INV00X2TBWJ.mat']\n",
      "8070\n"
     ]
    }
   ],
   "source": [
    "filenames = df_new['Subject'].astype('str').as_matrix()\n",
    "filenames2 = ('SubCortical_' + filenames + '.mat').tolist()\n",
    "\n",
    "filenames3 = [f for f in sorted(filenames2)]\n",
    "print(filenames3[:10])\n",
    "\n",
    "print(len(encoded_labels))"
   ]
  },
  {
   "cell_type": "code",
   "execution_count": 11,
   "metadata": {},
   "outputs": [
    {
     "name": "stdout",
     "output_type": "stream",
     "text": [
      "Subcortical\t(Samples, Nodes, Feat.):\t(8070, 14848, 3)\n"
     ]
    }
   ],
   "source": [
    "graph_type = {\n",
    "              'subcortical':{'path':subcortical_dir,\n",
    "                         'parts':'all_sc', \n",
    "                         'halves':False}\n",
    "             }\n",
    "X = load_inputs(graph_type=graph_type, filenames = filenames)\n",
    "\n",
    "sub_graphs = list(graph_type.keys())\n",
    "assert sub_graphs == ['subcortical']"
   ]
  },
  {
   "cell_type": "markdown",
   "metadata": {},
   "source": [
    "## 4. Analyze Distribution of Input Data for Subcortical Surfaces"
   ]
  },
  {
   "cell_type": "code",
   "execution_count": 12,
   "metadata": {},
   "outputs": [
    {
     "data": {
      "image/png": "[encoded data removed]",
      "text/plain": [
       "<Figure size 432x288 with 1 Axes>"
      ]
     },
     "metadata": {
      "needs_background": "light"
     },
     "output_type": "display_data"
    }
   ],
   "source": [
    "all_nodes = np.concatenate([X[sub].flatten() for sub in sub_graphs])\n",
    "plt.hist( all_nodes, bins=500) \n",
    "plt.title('Vertex Cartesian Coordinate Histogram')\n",
    "plt.show()"
   ]
  },
  {
   "cell_type": "markdown",
   "metadata": {},
   "source": [
    "## 5. MinMax Normalize Input Data"
   ]
  },
  {
   "cell_type": "code",
   "execution_count": 13,
   "metadata": {},
   "outputs": [
    {
     "data": {
      "image/png": "[encoded data removed]",
      "text/plain": [
       "<Figure size 432x288 with 1 Axes>"
      ]
     },
     "metadata": {
      "needs_background": "light"
     },
     "output_type": "display_data"
    }
   ],
   "source": [
    "X_max = np.max(all_nodes)\n",
    "X_min = np.min(all_nodes)\n",
    "\n",
    "for sub in sub_graphs:\n",
    "    X[sub] = (X[sub] - X_min) / (X_max - X_min)\n",
    "    X[sub] *= 2\n",
    "    X[sub] -= 1\n",
    "    \n",
    "all_nodes = np.concatenate([X[sub].flatten() for sub in sub_graphs])\n",
    "plt.hist( all_nodes, bins=500) \n",
    "plt.title('MinMax Normalized (After Standard Norm.) Cartesian Coordinate Histogram')\n",
    "plt.show()\n",
    "\n",
    "del all_nodes"
   ]
  },
  {
   "cell_type": "markdown",
   "metadata": {},
   "source": [
    "## 7. Block Diagonalize the SubCortical Features"
   ]
  },
  {
   "cell_type": "code",
   "execution_count": 16,
   "metadata": {
    "collapsed": true
   },
   "outputs": [],
   "source": [
    "from scipy.linalg import block_diag\n",
    "from sklearn.utils import resample\n",
    "X = X[f\"subcortical\"]"
   ]
  },
  {
   "cell_type": "markdown",
   "metadata": {},
   "source": [
    "## 8. Split the training and validation dataset using Cross-validation"
   ]
  },
  {
   "cell_type": "code",
   "execution_count": 17,
   "metadata": {
    "collapsed": true
   },
   "outputs": [],
   "source": [
    "from sklearn.model_selection import KFold\n",
    "import numpy as np\n",
    "\n",
    "T2= [i for i in range(1332*1, 8070)]\n",
    "train_index = T2 \n",
    "val_index = [j for j in range(1332*0, 1332*2)]\n",
    "\n",
    "X_train, X_val = X[train_index], X[val_index]\n",
    "y_train, y_val = encoded_labels[train_index], encoded_labels[val_index]"
   ]
  },
  {
   "cell_type": "code",
   "execution_count": 18,
   "metadata": {},
   "outputs": [
    {
     "name": "stdout",
     "output_type": "stream",
     "text": [
      "(8070, 14848, 3) (8070,) (0, 14848, 3) (0,)\n"
     ]
    }
   ],
   "source": [
    "print(X_train.shape, y_train.shape, X_val.shape, y_val.shape)"
   ]
  },
  {
   "cell_type": "markdown",
   "metadata": {},
   "source": [
    "## 9. Load Graph Adjacencies and Convert Into Laplacians"
   ]
  },
  {
   "cell_type": "code",
   "execution_count": 19,
   "metadata": {
    "collapsed": true
   },
   "outputs": [],
   "source": [
    "L = {}\n",
    "\n",
    "L['subcortical'] = load_graph(graphs_folder=graphs_dir, prefix='M_sc_w')\n",
    "L['subcortical'] = [graph.laplacian(A) for A in L['subcortical']]"
   ]
  },
  {
   "cell_type": "markdown",
   "metadata": {},
   "source": [
    "## 10. Block Diagonalize the Subcortical Laplacians at Each Level of Coarsening"
   ]
  },
  {
   "cell_type": "code",
   "execution_count": 20,
   "metadata": {
    "collapsed": true
   },
   "outputs": [],
   "source": [
    "from scipy.sparse import block_diag as sparse_block_diag"
   ]
  },
  {
   "cell_type": "code",
   "execution_count": 21,
   "metadata": {
    "collapsed": true
   },
   "outputs": [],
   "source": [
    "new_L = []\n",
    "for A in zip(L[f\"subcortical\"]):\n",
    "    new_L.append(sparse_block_diag(A))\n",
    "L = new_L\n",
    "del new_L"
   ]
  },
  {
   "cell_type": "code",
   "execution_count": 22,
   "metadata": {},
   "outputs": [
    {
     "data": {
      "text/plain": [
       "[<14848x14848 sparse matrix of type '<class 'numpy.float32'>'\n",
       " \twith 103768 stored elements in Compressed Sparse Row format>,\n",
       " <7424x7424 sparse matrix of type '<class 'numpy.float32'>'\n",
       " \twith 51800 stored elements in Compressed Sparse Row format>,\n",
       " <3712x3712 sparse matrix of type '<class 'numpy.float32'>'\n",
       " \twith 25816 stored elements in Compressed Sparse Row format>,\n",
       " <1856x1856 sparse matrix of type '<class 'numpy.float32'>'\n",
       " \twith 12824 stored elements in Compressed Sparse Row format>,\n",
       " <928x928 sparse matrix of type '<class 'numpy.float32'>'\n",
       " \twith 6328 stored elements in Compressed Sparse Row format>,\n",
       " <464x464 sparse matrix of type '<class 'numpy.float32'>'\n",
       " \twith 3080 stored elements in Compressed Sparse Row format>,\n",
       " <232x232 sparse matrix of type '<class 'numpy.float32'>'\n",
       " \twith 1456 stored elements in Compressed Sparse Row format>,\n",
       " <116x116 sparse matrix of type '<class 'numpy.float32'>'\n",
       " \twith 648 stored elements in Compressed Sparse Row format>]"
      ]
     },
     "execution_count": 22,
     "metadata": {},
     "output_type": "execute_result"
    }
   ],
   "source": [
    "L"
   ]
  },
  {
   "cell_type": "markdown",
   "metadata": {},
   "source": [
    "## 11. ChebyNet Model Parameters Initialization"
   ]
  },
  {
   "cell_type": "code",
   "execution_count": 1,
   "metadata": {
    "collapsed": true
   },
   "outputs": [],
   "source": [
    "# Initial training parameters\n",
    "params = {'num_epochs': 50, \n",
    "          'batch_size': 50,\n",
    "          'eval_frequency': 10\n",
    "         }\n",
    "\n",
    "# Expected features dimension sizing of the input\n",
    "N_feat = X_train.shape[-1]\n",
    "\n",
    "params.update(task = 'regression')\n",
    "\n",
    "if N_feat == 1:\n",
    "    params['V'] = None\n",
    "elif N_feat > 1:\n",
    "    params['V'] = N_feat\n",
    "else:\n",
    "    raise ValueError('Input features dim. should be >= 1')\n",
    "\n",
    "# # Network task initialization\n",
    "# C = np.max(encoded_labels) + 1\n",
    "# params.update(M = [C]) # number of units in fully-connected layer (set to # classes for classification)  \n",
    "if params['task'] == 'classification':\n",
    "    # Number of classes.()\n",
    "    C = np.max(Gender) + 1\n",
    "    assert C == np.unique(Gender).size\n",
    "    params['M']              = [C]  # Set fully connected layer output to the number of class\n",
    "else:\n",
    "    arr = [0,0,0]\n",
    "    C = np.max(arr) + 1    \n",
    "    params['M']              = [C]\n",
    "\n",
    "# Network Architecture\n",
    "params['F']   = [16 for _ in range(4)] # number of filters per layer\n",
    "params['K']   = 3                      # polynomial order of each layer\n",
    "params['p']   = 2                      # pooling size per layer\n",
    "params['B']   = len(params['F'])       # number of ResNet blocks\n",
    "params['F_l'] = 128                     # number of post-ResNet filters\n",
    "\n",
    "# Optimization Parameters\n",
    "params['regularization'] = 0.\n",
    "params['learning_rate']  = 5e-4\n",
    "params['decay_rate']     = 0.999\n",
    "params['momentum']       = 0.\n",
    "params['dropout']        = 1.          # Using TF 1.13.1 so this is the KEEP PROBABILITY\n",
    "params['decay_steps']    = 1.\n",
    "\n",
    "# AUGMENTATION PROB. SET TO ZERO (NO AUGMENTATION)\n",
    "params.update(prob_augment = 0.)\n",
    "\n",
    "# Model Saving\n",
    "params['dir_name'] = f\"{home}/models/ABCD_CogFluidScore__subcortical_only2\"\n",
    "print(params['dir_name'])\n",
    "# os.mkdir(params['dir_name'])"
   ]
  },
  {
   "cell_type": "markdown",
   "metadata": {},
   "source": [
    "## 12. Create Model"
   ]
  },
  {
   "cell_type": "code",
   "execution_count": 24,
   "metadata": {},
   "outputs": [
    {
     "name": "stdout",
     "output_type": "stream",
     "text": [
      "NN architecture\n",
      "  input: M_0 = 14848\n",
      " \n",
      "Pre-convolution layer:\n",
      "  biases: L_0 * F_0_ = 14848 * 16 = 237568\n",
      "  weights: V * F_0 * K_0 = 3 * 16 * 3 = 144\n",
      " \n",
      "ResNet blocks:\n",
      " Block 0\n",
      "    batch normalization: 2 * L_0 = 2 * 14848 = 29696\n",
      "    weights: F_0 * F_0 * K_0 = 16 * 16 * 3 = 768\n",
      " Block 1\n",
      "    batch normalization: 2 * L_1 = 2 * 7424 = 14848\n",
      "    weights: F_1 * F_1 * K_1 = 16 * 16 * 3 = 768\n",
      " Block 2\n",
      "    batch normalization: 2 * L_2 = 2 * 3712 = 7424\n",
      "    weights: F_2 * F_2 * K_2 = 16 * 16 * 3 = 768\n",
      " Block 3\n",
      "    batch normalization: 2 * L_3 = 2 * 1856 = 3712\n",
      "    weights: F_3 * F_3 * K_3 = 16 * 16 * 3 = 768\n",
      " \n",
      "Post-convolution layer:\n",
      "  batch normalization: 2 * L_3 = 2 * 1856 = 3712\n",
      " \n",
      "Fully connected layer:\n",
      "  weights: K_3 * M = 3 * 1 = 3\n",
      "L_post = 928 ; F_post = 128 ; K_post = 3\n"
     ]
    }
   ],
   "source": [
    "model = cgcnn(L, **params)"
   ]
  },
  {
   "cell_type": "markdown",
   "metadata": {},
   "source": [
    "## 13. Training"
   ]
  },
  {
   "cell_type": "code",
   "execution_count": 10,
   "metadata": {
    "collapsed": true
   },
   "outputs": [],
   "source": [
    "accuracy, loss, t_step = model.fit(X_train, y_train, X_val, y_val)"
   ]
  },
  {
   "cell_type": "code",
   "execution_count": null,
   "metadata": {
    "collapsed": true
   },
   "outputs": [],
   "source": [
    "plt.plot(np.arange(0,1842*2,2),accuracy)\n",
    "plt.title('Accuracy of GCN vs. Epochs')\n",
    "plt.xlabel('Epoch')\n",
    "plt.ylabel('Accuracy')\n",
    "plt.show()"
   ]
  },
  {
   "cell_type": "markdown",
   "metadata": {},
   "source": [
    "## 14. CAM & Testing  for each fold after training each fold"
   ]
  },
  {
   "cell_type": "code",
   "execution_count": 2,
   "metadata": {
    "collapsed": true
   },
   "outputs": [],
   "source": [
    "a = model.predict(X_train[0:1345])\n",
    "np.save('path',CAM_map_a)"
   ]
  },
  {
   "cell_type": "code",
   "execution_count": 3,
   "metadata": {
    "collapsed": true
   },
   "outputs": [],
   "source": [
    "b = model.predict(X_train[1345*1:1345*2])\n",
    "np.save('path',CAM_map_b)"
   ]
  },
  {
   "cell_type": "code",
   "execution_count": 4,
   "metadata": {
    "collapsed": true
   },
   "outputs": [],
   "source": [
    "c = model.predict(X_train[1345*2:1345*3])\n",
    "np.save('path',CAM_map_c)"
   ]
  },
  {
   "cell_type": "code",
   "execution_count": 5,
   "metadata": {
    "collapsed": true
   },
   "outputs": [],
   "source": [
    "d = model.predict(X_train[1345*3:1345*4])\n",
    "np.save('path',CAM_map_d)"
   ]
  },
  {
   "cell_type": "code",
   "execution_count": 6,
   "metadata": {
    "collapsed": true
   },
   "outputs": [],
   "source": [
    "e = model.predict(X_train[1345*4:1345*5])\n",
    "np.save('path',CAM_map_e)"
   ]
  },
  {
   "cell_type": "code",
   "execution_count": 7,
   "metadata": {
    "collapsed": true
   },
   "outputs": [],
   "source": [
    "f = model.predict(X_train[1345*5:1345*6])\n",
    "np.save('path',CAM_map_f)"
   ]
  },
  {
   "cell_type": "code",
   "execution_count": 8,
   "metadata": {
    "collapsed": true
   },
   "outputs": [],
   "source": [
    "from sklearn.metrics import r2_score\n",
    "from sklearn.metrics import mean_squared_error\n",
    "res = r2_score(y_train[1345*0:1345*1],a)\n",
    "print('r2', res)\n",
    "from scipy.stats import pearsonr\n",
    "corr, p_value = pearsonr(y_train[1345*0:1345*1],a)\n",
    "print('corr', corr, 'p', p_value)\n",
    "\n",
    "mse = mean_squared_error(y_train[1345*0:1345*1],a)\n",
    "print('mse', mse)\n"
   ]
  },
  {
   "cell_type": "code",
   "execution_count": 99,
   "metadata": {},
   "outputs": [
    {
     "name": "stdout",
     "output_type": "stream",
     "text": [
      "(8070,)\n",
      "r2 0.06592810522246217\n",
      "corr 0.2753869891759582 p 2.1668189142493463e-140\n",
      "mse 0.9480127010716486\n"
     ]
    },
    {
     "data": {
      "image/png": "[encoded data removed]",
      "text/plain": [
       "<Figure size 432x288 with 1 Axes>"
      ]
     },
     "metadata": {
      "needs_background": "light"
     },
     "output_type": "display_data"
    }
   ],
   "source": [
    "pred = np.concatenate((a,b,c,d,e,f))\n",
    "print(pred.shape)\n",
    "plt.plot(y_train, pred, '.')\n",
    "res = r2_score(y_train,pred)\n",
    "print('r2', res)\n",
    "\n",
    "corr, p_value = pearsonr(y_train,pred)\n",
    "print('corr', corr, 'p', p_value)\n",
    "\n",
    "mse = mean_squared_error(y_train,pred)\n",
    "print('mse', mse)"
   ]
  },
  {
   "cell_type": "code",
   "execution_count": 104,
   "metadata": {},
   "outputs": [
    {
     "name": "stdout",
     "output_type": "stream",
     "text": [
      "Size CAM_map = 6738 x 928 x 1\n",
      "Size CAM_pred = 50 x 928 x 1\n",
      "Begin = 0 ; End = 50\n",
      "Size CAM_pred = 50 x 928 x 1\n",
      "Begin = 50 ; End = 100\n",
      "Size CAM_pred = 50 x 928 x 1\n",
      "Begin = 100 ; End = 150\n",
      "Size CAM_pred = 50 x 928 x 1\n",
      "Begin = 150 ; End = 200\n",
      "Size CAM_pred = 50 x 928 x 1\n",
      "Begin = 200 ; End = 250\n",
      "Size CAM_pred = 50 x 928 x 1\n",
      "Begin = 250 ; End = 300\n",
      "Size CAM_pred = 50 x 928 x 1\n",
      "Begin = 300 ; End = 350\n",
      "Size CAM_pred = 50 x 928 x 1\n",
      "Begin = 350 ; End = 400\n",
      "Size CAM_pred = 50 x 928 x 1\n",
      "Begin = 400 ; End = 450\n",
      "Size CAM_pred = 50 x 928 x 1\n",
      "Begin = 450 ; End = 500\n",
      "Size CAM_pred = 50 x 928 x 1\n",
      "Begin = 500 ; End = 550\n",
      "Size CAM_pred = 50 x 928 x 1\n",
      "Begin = 550 ; End = 600\n",
      "Size CAM_pred = 50 x 928 x 1\n",
      "Begin = 600 ; End = 650\n",
      "Size CAM_pred = 50 x 928 x 1\n",
      "Begin = 650 ; End = 700\n",
      "Size CAM_pred = 50 x 928 x 1\n",
      "Begin = 700 ; End = 750\n",
      "Size CAM_pred = 50 x 928 x 1\n",
      "Begin = 750 ; End = 800\n",
      "Size CAM_pred = 50 x 928 x 1\n",
      "Begin = 800 ; End = 850\n",
      "Size CAM_pred = 50 x 928 x 1\n",
      "Begin = 850 ; End = 900\n",
      "Size CAM_pred = 50 x 928 x 1\n",
      "Begin = 900 ; End = 950\n",
      "Size CAM_pred = 50 x 928 x 1\n",
      "Begin = 950 ; End = 1000\n",
      "Size CAM_pred = 50 x 928 x 1\n",
      "Begin = 1000 ; End = 1050\n",
      "Size CAM_pred = 50 x 928 x 1\n",
      "Begin = 1050 ; End = 1100\n",
      "Size CAM_pred = 50 x 928 x 1\n",
      "Begin = 1100 ; End = 1150\n",
      "Size CAM_pred = 50 x 928 x 1\n",
      "Begin = 1150 ; End = 1200\n",
      "Size CAM_pred = 50 x 928 x 1\n",
      "Begin = 1200 ; End = 1250\n",
      "Size CAM_pred = 50 x 928 x 1\n",
      "Begin = 1250 ; End = 1300\n",
      "Size CAM_pred = 50 x 928 x 1\n",
      "Begin = 1300 ; End = 1350\n",
      "Size CAM_pred = 50 x 928 x 1\n",
      "Begin = 1350 ; End = 1400\n",
      "Size CAM_pred = 50 x 928 x 1\n",
      "Begin = 1400 ; End = 1450\n",
      "Size CAM_pred = 50 x 928 x 1\n",
      "Begin = 1450 ; End = 1500\n",
      "Size CAM_pred = 50 x 928 x 1\n",
      "Begin = 1500 ; End = 1550\n",
      "Size CAM_pred = 50 x 928 x 1\n",
      "Begin = 1550 ; End = 1600\n",
      "Size CAM_pred = 50 x 928 x 1\n",
      "Begin = 1600 ; End = 1650\n",
      "Size CAM_pred = 50 x 928 x 1\n",
      "Begin = 1650 ; End = 1700\n",
      "Size CAM_pred = 50 x 928 x 1\n",
      "Begin = 1700 ; End = 1750\n",
      "Size CAM_pred = 50 x 928 x 1\n",
      "Begin = 1750 ; End = 1800\n",
      "Size CAM_pred = 50 x 928 x 1\n",
      "Begin = 1800 ; End = 1850\n",
      "Size CAM_pred = 50 x 928 x 1\n",
      "Begin = 1850 ; End = 1900\n",
      "Size CAM_pred = 50 x 928 x 1\n",
      "Begin = 1900 ; End = 1950\n",
      "Size CAM_pred = 50 x 928 x 1\n",
      "Begin = 1950 ; End = 2000\n",
      "Size CAM_pred = 50 x 928 x 1\n",
      "Begin = 2000 ; End = 2050\n",
      "Size CAM_pred = 50 x 928 x 1\n",
      "Begin = 2050 ; End = 2100\n",
      "Size CAM_pred = 50 x 928 x 1\n",
      "Begin = 2100 ; End = 2150\n",
      "Size CAM_pred = 50 x 928 x 1\n",
      "Begin = 2150 ; End = 2200\n",
      "Size CAM_pred = 50 x 928 x 1\n",
      "Begin = 2200 ; End = 2250\n",
      "Size CAM_pred = 50 x 928 x 1\n",
      "Begin = 2250 ; End = 2300\n",
      "Size CAM_pred = 50 x 928 x 1\n",
      "Begin = 2300 ; End = 2350\n",
      "Size CAM_pred = 50 x 928 x 1\n",
      "Begin = 2350 ; End = 2400\n",
      "Size CAM_pred = 50 x 928 x 1\n",
      "Begin = 2400 ; End = 2450\n",
      "Size CAM_pred = 50 x 928 x 1\n",
      "Begin = 2450 ; End = 2500\n",
      "Size CAM_pred = 50 x 928 x 1\n",
      "Begin = 2500 ; End = 2550\n",
      "Size CAM_pred = 50 x 928 x 1\n",
      "Begin = 2550 ; End = 2600\n",
      "Size CAM_pred = 50 x 928 x 1\n",
      "Begin = 2600 ; End = 2650\n",
      "Size CAM_pred = 50 x 928 x 1\n",
      "Begin = 2650 ; End = 2700\n",
      "Size CAM_pred = 50 x 928 x 1\n",
      "Begin = 2700 ; End = 2750\n",
      "Size CAM_pred = 50 x 928 x 1\n",
      "Begin = 2750 ; End = 2800\n",
      "Size CAM_pred = 50 x 928 x 1\n",
      "Begin = 2800 ; End = 2850\n",
      "Size CAM_pred = 50 x 928 x 1\n",
      "Begin = 2850 ; End = 2900\n",
      "Size CAM_pred = 50 x 928 x 1\n",
      "Begin = 2900 ; End = 2950\n",
      "Size CAM_pred = 50 x 928 x 1\n",
      "Begin = 2950 ; End = 3000\n",
      "Size CAM_pred = 50 x 928 x 1\n",
      "Begin = 3000 ; End = 3050\n",
      "Size CAM_pred = 50 x 928 x 1\n",
      "Begin = 3050 ; End = 3100\n",
      "Size CAM_pred = 50 x 928 x 1\n",
      "Begin = 3100 ; End = 3150\n",
      "Size CAM_pred = 50 x 928 x 1\n",
      "Begin = 3150 ; End = 3200\n",
      "Size CAM_pred = 50 x 928 x 1\n",
      "Begin = 3200 ; End = 3250\n",
      "Size CAM_pred = 50 x 928 x 1\n",
      "Begin = 3250 ; End = 3300\n",
      "Size CAM_pred = 50 x 928 x 1\n",
      "Begin = 3300 ; End = 3350\n",
      "Size CAM_pred = 50 x 928 x 1\n",
      "Begin = 3350 ; End = 3400\n",
      "Size CAM_pred = 50 x 928 x 1\n",
      "Begin = 3400 ; End = 3450\n",
      "Size CAM_pred = 50 x 928 x 1\n",
      "Begin = 3450 ; End = 3500\n",
      "Size CAM_pred = 50 x 928 x 1\n",
      "Begin = 3500 ; End = 3550\n",
      "Size CAM_pred = 50 x 928 x 1\n",
      "Begin = 3550 ; End = 3600\n",
      "Size CAM_pred = 50 x 928 x 1\n",
      "Begin = 3600 ; End = 3650\n",
      "Size CAM_pred = 50 x 928 x 1\n",
      "Begin = 3650 ; End = 3700\n",
      "Size CAM_pred = 50 x 928 x 1\n",
      "Begin = 3700 ; End = 3750\n",
      "Size CAM_pred = 50 x 928 x 1\n",
      "Begin = 3750 ; End = 3800\n",
      "Size CAM_pred = 50 x 928 x 1\n",
      "Begin = 3800 ; End = 3850\n",
      "Size CAM_pred = 50 x 928 x 1\n",
      "Begin = 3850 ; End = 3900\n",
      "Size CAM_pred = 50 x 928 x 1\n",
      "Begin = 3900 ; End = 3950\n",
      "Size CAM_pred = 50 x 928 x 1\n",
      "Begin = 3950 ; End = 4000\n",
      "Size CAM_pred = 50 x 928 x 1\n",
      "Begin = 4000 ; End = 4050\n",
      "Size CAM_pred = 50 x 928 x 1\n",
      "Begin = 4050 ; End = 4100\n",
      "Size CAM_pred = 50 x 928 x 1\n",
      "Begin = 4100 ; End = 4150\n",
      "Size CAM_pred = 50 x 928 x 1\n",
      "Begin = 4150 ; End = 4200\n",
      "Size CAM_pred = 50 x 928 x 1\n",
      "Begin = 4200 ; End = 4250\n",
      "Size CAM_pred = 50 x 928 x 1\n",
      "Begin = 4250 ; End = 4300\n",
      "Size CAM_pred = 50 x 928 x 1\n",
      "Begin = 4300 ; End = 4350\n",
      "Size CAM_pred = 50 x 928 x 1\n",
      "Begin = 4350 ; End = 4400\n",
      "Size CAM_pred = 50 x 928 x 1\n",
      "Begin = 4400 ; End = 4450\n",
      "Size CAM_pred = 50 x 928 x 1\n",
      "Begin = 4450 ; End = 4500\n",
      "Size CAM_pred = 50 x 928 x 1\n",
      "Begin = 4500 ; End = 4550\n",
      "Size CAM_pred = 50 x 928 x 1\n",
      "Begin = 4550 ; End = 4600\n",
      "Size CAM_pred = 50 x 928 x 1\n",
      "Begin = 4600 ; End = 4650\n",
      "Size CAM_pred = 50 x 928 x 1\n",
      "Begin = 4650 ; End = 4700\n",
      "Size CAM_pred = 50 x 928 x 1\n",
      "Begin = 4700 ; End = 4750\n",
      "Size CAM_pred = 50 x 928 x 1\n",
      "Begin = 4750 ; End = 4800\n",
      "Size CAM_pred = 50 x 928 x 1\n",
      "Begin = 4800 ; End = 4850\n",
      "Size CAM_pred = 50 x 928 x 1\n",
      "Begin = 4850 ; End = 4900\n",
      "Size CAM_pred = 50 x 928 x 1\n",
      "Begin = 4900 ; End = 4950\n",
      "Size CAM_pred = 50 x 928 x 1\n",
      "Begin = 4950 ; End = 5000\n",
      "Size CAM_pred = 50 x 928 x 1\n",
      "Begin = 5000 ; End = 5050\n",
      "Size CAM_pred = 50 x 928 x 1\n",
      "Begin = 5050 ; End = 5100\n",
      "Size CAM_pred = 50 x 928 x 1\n",
      "Begin = 5100 ; End = 5150\n",
      "Size CAM_pred = 50 x 928 x 1\n",
      "Begin = 5150 ; End = 5200\n",
      "Size CAM_pred = 50 x 928 x 1\n",
      "Begin = 5200 ; End = 5250\n",
      "Size CAM_pred = 50 x 928 x 1\n",
      "Begin = 5250 ; End = 5300\n",
      "Size CAM_pred = 50 x 928 x 1\n",
      "Begin = 5300 ; End = 5350\n",
      "Size CAM_pred = 50 x 928 x 1\n",
      "Begin = 5350 ; End = 5400\n",
      "Size CAM_pred = 50 x 928 x 1\n",
      "Begin = 5400 ; End = 5450\n",
      "Size CAM_pred = 50 x 928 x 1\n",
      "Begin = 5450 ; End = 5500\n",
      "Size CAM_pred = 50 x 928 x 1\n",
      "Begin = 5500 ; End = 5550\n",
      "Size CAM_pred = 50 x 928 x 1\n",
      "Begin = 5550 ; End = 5600\n",
      "Size CAM_pred = 50 x 928 x 1\n",
      "Begin = 5600 ; End = 5650\n",
      "Size CAM_pred = 50 x 928 x 1\n",
      "Begin = 5650 ; End = 5700\n",
      "Size CAM_pred = 50 x 928 x 1\n",
      "Begin = 5700 ; End = 5750\n",
      "Size CAM_pred = 50 x 928 x 1\n",
      "Begin = 5750 ; End = 5800\n",
      "Size CAM_pred = 50 x 928 x 1\n",
      "Begin = 5800 ; End = 5850\n",
      "Size CAM_pred = 50 x 928 x 1\n",
      "Begin = 5850 ; End = 5900\n",
      "Size CAM_pred = 50 x 928 x 1\n",
      "Begin = 5900 ; End = 5950\n",
      "Size CAM_pred = 50 x 928 x 1\n",
      "Begin = 5950 ; End = 6000\n",
      "Size CAM_pred = 50 x 928 x 1\n",
      "Begin = 6000 ; End = 6050\n",
      "Size CAM_pred = 50 x 928 x 1\n",
      "Begin = 6050 ; End = 6100\n",
      "Size CAM_pred = 50 x 928 x 1\n",
      "Begin = 6100 ; End = 6150\n",
      "Size CAM_pred = 50 x 928 x 1\n",
      "Begin = 6150 ; End = 6200\n",
      "Size CAM_pred = 50 x 928 x 1\n",
      "Begin = 6200 ; End = 6250\n",
      "Size CAM_pred = 50 x 928 x 1\n",
      "Begin = 6250 ; End = 6300\n",
      "Size CAM_pred = 50 x 928 x 1\n",
      "Begin = 6300 ; End = 6350\n",
      "Size CAM_pred = 50 x 928 x 1\n",
      "Begin = 6350 ; End = 6400\n",
      "Size CAM_pred = 50 x 928 x 1\n",
      "Begin = 6400 ; End = 6450\n",
      "Size CAM_pred = 50 x 928 x 1\n",
      "Begin = 6450 ; End = 6500\n",
      "Size CAM_pred = 50 x 928 x 1\n",
      "Begin = 6500 ; End = 6550\n",
      "Size CAM_pred = 50 x 928 x 1\n",
      "Begin = 6550 ; End = 6600\n",
      "Size CAM_pred = 50 x 928 x 1\n",
      "Begin = 6600 ; End = 6650\n",
      "Size CAM_pred = 50 x 928 x 1\n",
      "Begin = 6650 ; End = 6700\n",
      "Size CAM_pred = 50 x 928 x 1\n",
      "Begin = 6700 ; End = 6738\n"
     ]
    },
    {
     "data": {
      "text/plain": [
       "[<matplotlib.lines.Line2D at 0x1446dd8aa90>]"
      ]
     },
     "execution_count": 104,
     "metadata": {},
     "output_type": "execute_result"
    },
    {
     "data": {
      "image/png": "[encoded data removed]",
      "text/plain": [
       "<Figure size 432x288 with 1 Axes>"
      ]
     },
     "metadata": {
      "needs_background": "light"
     },
     "output_type": "display_data"
    }
   ],
   "source": [
    "predictions, CAM_map = model.predict(X_train, CAM = True)\n",
    "plt.plot(y_train, predictions, '.')"
   ]
  },
  {
   "cell_type": "code",
   "execution_count": 106,
   "metadata": {},
   "outputs": [
    {
     "name": "stdout",
     "output_type": "stream",
     "text": [
      "(6738, 928, 1)\n"
     ]
    }
   ],
   "source": [
    "print(CAM_map.shape)\n",
    "np.save('path',CAM_map)"
   ]
  },
  {
   "cell_type": "code",
   "execution_count": 66,
   "metadata": {},
   "outputs": [
    {
     "name": "stdout",
     "output_type": "stream",
     "text": [
      "0.26377463086305386\n"
     ]
    },
    {
     "data": {
      "image/png": "[encoded data removed]",
      "text/plain": [
       "<Figure size 432x288 with 1 Axes>"
      ]
     },
     "metadata": {
      "needs_background": "light"
     },
     "output_type": "display_data"
    }
   ],
   "source": [
    "predictions = model.predict(X_val, CAM = False)\n",
    "# plt.plot(y_val, predictions, '.')\n",
    "from scipy import stats\n",
    "slope, intercept, r_value, p_value, std_err = stats.linregress(y_val,predictions)\n",
    "plt.plot(y_val, predictions, '.')\n",
    "# x = np.linspace(-2,2)\n",
    "y = y_val*slope+intercept\n",
    "plt.plot(y_val, y, 'r')\n",
    "print(r_value)"
   ]
  },
  {
   "cell_type": "code",
   "execution_count": 9,
   "metadata": {
    "collapsed": true
   },
   "outputs": [],
   "source": [
    "res = r2_score(y_val,predictions)\n",
    "print('r2', res)\n",
    "from scipy.stats import pearsonr\n",
    "corr, p_value = pearsonr(y_val, predictions)\n",
    "print('corr', corr, 'p', p_value)\n",
    "\n",
    "mse = mean_squared_error(y_val, predictions)\n",
    "print('mse', mse)"
   ]
  }
 ],
 "metadata": {
  "kernelspec": {
   "display_name": "Python 3",
   "language": "python",
   "name": "python3"
  },
  "language_info": {
   "codemirror_mode": {
    "name": "ipython",
    "version": 3
   },
   "file_extension": ".py",
   "mimetype": "text/x-python",
   "name": "python",
   "nbconvert_exporter": "python",
   "pygments_lexer": "ipython3",
   "version": "3.5.3"
  }
 },
 "nbformat": 4,
 "nbformat_minor": 4
}
