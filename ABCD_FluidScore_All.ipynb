{
 "cells": [
  {
   "cell_type": "markdown",
   "metadata": {},
   "source": [
    "## 1. Load the package"
   ]
  },
  {
   "cell_type": "code",
   "execution_count": 1,
   "metadata": {
    "collapsed": true
   },
   "outputs": [],
   "source": [
    "import os, shutil\n",
    "os.environ['TF_CPP_MIN_LOG_LEVEL'] = '3' \n",
    "\n",
    "import warnings\n",
    "warnings.filterwarnings('ignore')\n",
    "\n",
    "from tensorflow.python.util import deprecation\n",
    "deprecation._PRINT_DEPRECATION_WARNINGS = False\n",
    "\n",
    "import pandas as pd\n",
    "import numpy as np\n",
    "\n",
    "from sklearn.preprocessing import LabelEncoder\n",
    "from sklearn.model_selection import train_test_split\n",
    "\n",
    "from sklearn.preprocessing import MinMaxScaler\n",
    "from sklearn.preprocessing import StandardScaler\n",
    "\n",
    "from utils.labels_preprocessing import load_labels\n",
    "from utils.load_synced_inputs import load_inputs\n",
    "from utils.load_graphs import load_graph\n",
    "\n",
    "from cnn_graph.resnetgraph import cgcnn\n",
    "from cnn_graph import graph\n",
    "\n",
    "import tensorflow as tf\n",
    "\n",
    "from matplotlib import pyplot as plt\n",
    "\n",
    "np.random.seed(42)\n",
    "tf.set_random_seed(42)"
   ]
  },
  {
   "cell_type": "markdown",
   "metadata": {},
   "source": [
    "## 2. Establish Directories for Data Extraction"
   ]
  },
  {
   "cell_type": "code",
   "execution_count": 2,
   "metadata": {
    "collapsed": true
   },
   "outputs": [],
   "source": [
    "home = f\"{os.getcwd()}/..\"\n",
    "\n",
    "graphs_dir = f\"{home}/Graphs/\"            # directory containing necessary graphs\n",
    "cortical_dir = '.../Data/abcd challenge/training/Cortex' # path for the ABCD cortical dataset\n",
    "subcortical_dir = '.../Data/abcd challenge/training/Subcortex'# path for the ABCD subcortical dataset\n",
    "\n",
    "for scan in os.listdir(cortical_dir):\n",
    "    if scan[7:11] == 'NDAR':\n",
    "        assert os.path.isfile(f\"{subcortical_dir}/SubCortical_{scan[7:]}\")\n",
    "\n",
    "assert len(os.listdir(cortical_dir)) == len(set(os.listdir(cortical_dir)))"
   ]
  },
  {
   "cell_type": "markdown",
   "metadata": {},
   "source": [
    "## 3. Load Labels"
   ]
  },
  {
   "cell_type": "code",
   "execution_count": 4,
   "metadata": {},
   "outputs": [
    {
     "data": {
      "text/html": [
       "<div>\n",
       "<style scoped>\n",
       "    .dataframe tbody tr th:only-of-type {\n",
       "        vertical-align: middle;\n",
       "    }\n",
       "\n",
       "    .dataframe tbody tr th {\n",
       "        vertical-align: top;\n",
       "    }\n",
       "\n",
       "    .dataframe thead th {\n",
       "        text-align: right;\n",
       "    }\n",
       "</style>\n",
       "<table border=\"1\" class=\"dataframe\">\n",
       "  <thead>\n",
       "    <tr style=\"text-align: right;\">\n",
       "      <th></th>\n",
       "      <th>Subject</th>\n",
       "      <th>Sex</th>\n",
       "      <th>Age</th>\n",
       "      <th>Cognition Fluid Composite Uncorrected Standard Score</th>\n",
       "      <th>Cognition Fluid Composite Age-Corrected Standard Score</th>\n",
       "    </tr>\n",
       "  </thead>\n",
       "  <tbody>\n",
       "    <tr>\n",
       "      <th>0</th>\n",
       "      <td>NDAR_INV005V6D2C</td>\n",
       "      <td>F</td>\n",
       "      <td>121</td>\n",
       "      <td>90.0</td>\n",
       "      <td>90.0</td>\n",
       "    </tr>\n",
       "    <tr>\n",
       "      <th>1</th>\n",
       "      <td>NDAR_INV007W6H7B</td>\n",
       "      <td>M</td>\n",
       "      <td>126</td>\n",
       "      <td>101.0</td>\n",
       "      <td>104.0</td>\n",
       "    </tr>\n",
       "    <tr>\n",
       "      <th>2</th>\n",
       "      <td>NDAR_INV00CY2MDM</td>\n",
       "      <td>M</td>\n",
       "      <td>130</td>\n",
       "      <td>85.0</td>\n",
       "      <td>85.0</td>\n",
       "    </tr>\n",
       "    <tr>\n",
       "      <th>3</th>\n",
       "      <td>NDAR_INV00HEV6HB</td>\n",
       "      <td>M</td>\n",
       "      <td>124</td>\n",
       "      <td>90.0</td>\n",
       "      <td>88.0</td>\n",
       "    </tr>\n",
       "    <tr>\n",
       "      <th>4</th>\n",
       "      <td>NDAR_INV00LH735Y</td>\n",
       "      <td>M</td>\n",
       "      <td>109</td>\n",
       "      <td>77.0</td>\n",
       "      <td>75.0</td>\n",
       "    </tr>\n",
       "    <tr>\n",
       "      <th>5</th>\n",
       "      <td>NDAR_INV00LJVZK2</td>\n",
       "      <td>M</td>\n",
       "      <td>121</td>\n",
       "      <td>86.0</td>\n",
       "      <td>81.0</td>\n",
       "    </tr>\n",
       "    <tr>\n",
       "      <th>6</th>\n",
       "      <td>NDAR_INV00NPMHND</td>\n",
       "      <td>F</td>\n",
       "      <td>118</td>\n",
       "      <td>77.0</td>\n",
       "      <td>74.0</td>\n",
       "    </tr>\n",
       "    <tr>\n",
       "      <th>7</th>\n",
       "      <td>NDAR_INV00R4TXET</td>\n",
       "      <td>F</td>\n",
       "      <td>114</td>\n",
       "      <td>104.0</td>\n",
       "      <td>118.0</td>\n",
       "    </tr>\n",
       "  </tbody>\n",
       "</table>\n",
       "</div>"
      ],
      "text/plain": [
       "            Subject Sex  Age  \\\n",
       "0  NDAR_INV005V6D2C   F  121   \n",
       "1  NDAR_INV007W6H7B   M  126   \n",
       "2  NDAR_INV00CY2MDM   M  130   \n",
       "3  NDAR_INV00HEV6HB   M  124   \n",
       "4  NDAR_INV00LH735Y   M  109   \n",
       "5  NDAR_INV00LJVZK2   M  121   \n",
       "6  NDAR_INV00NPMHND   F  118   \n",
       "7  NDAR_INV00R4TXET   F  114   \n",
       "\n",
       "   Cognition Fluid Composite Uncorrected Standard Score  \\\n",
       "0                                               90.0      \n",
       "1                                              101.0      \n",
       "2                                               85.0      \n",
       "3                                               90.0      \n",
       "4                                               77.0      \n",
       "5                                               86.0      \n",
       "6                                               77.0      \n",
       "7                                              104.0      \n",
       "\n",
       "   Cognition Fluid Composite Age-Corrected Standard Score  \n",
       "0                                               90.0       \n",
       "1                                              104.0       \n",
       "2                                               85.0       \n",
       "3                                               88.0       \n",
       "4                                               75.0       \n",
       "5                                               81.0       \n",
       "6                                               74.0       \n",
       "7                                              118.0       "
      ]
     },
     "execution_count": 4,
     "metadata": {},
     "output_type": "execute_result"
    }
   ],
   "source": [
    "Path = '.../abcd.csv'\n",
    "df = pd.read_csv(Path)\n",
    "df_fluid = df[['Subject','Sex','Age','Cognition Fluid Composite Uncorrected Standard Score','Cognition Fluid Composite Age-Corrected Standard Score']]   # choose the columns you want\n",
    "df_new = df_fluid.dropna(subset=['Cognition Fluid Composite Uncorrected Standard Score'])                                       # drop the Nan rows\n",
    "df_new.head(8)"
   ]
  },
  {
   "cell_type": "code",
   "execution_count": 5,
   "metadata": {},
   "outputs": [
    {
     "data": {
      "image/png": "[encoded data removed]",
      "text/plain": [
       "<Figure size 432x288 with 1 Axes>"
      ]
     },
     "metadata": {
      "needs_background": "light"
     },
     "output_type": "display_data"
    }
   ],
   "source": [
    "#show the distribution \n",
    "s = np.random.normal(0, 1, df_new.shape[0])\n",
    "import matplotlib.pyplot as plt\n",
    "count, bins, ignored = plt.hist(s, 30, density=True)\n",
    "plt.plot(bins, 1/( np.sqrt(2 * np.pi)) *\n",
    "                np.exp( - (bins )**2 / (2) ),\n",
    "          linewidth=2, color='r')\n",
    "plt.show()"
   ]
  },
  {
   "cell_type": "code",
   "execution_count": 6,
   "metadata": {
    "collapsed": true
   },
   "outputs": [],
   "source": [
    "def quantile_normalize_using_target(x, target):\n",
    "    \"\"\"\n",
    "    Both `x` and `target` are numpy arrays of equal lengths.\n",
    "    \"\"\"\n",
    "\n",
    "    target_sorted = np.sort(target)\n",
    "\n",
    "    return target_sorted[x.argsort().argsort()]"
   ]
  },
  {
   "cell_type": "code",
   "execution_count": 7,
   "metadata": {},
   "outputs": [
    {
     "name": "stdout",
     "output_type": "stream",
     "text": [
      "[-0.24633528  0.81573721 -0.69569488 ...  1.05993638  1.29075842\n",
      " -1.94937176]\n"
     ]
    }
   ],
   "source": [
    "xx = quantile_normalize_using_target(df_new['Cognition Fluid Composite Uncorrected Standard Score'].as_matrix(),s)\n",
    "encoded_labels = xx\n",
    "print(encoded_labels)"
   ]
  },
  {
   "cell_type": "code",
   "execution_count": 8,
   "metadata": {},
   "outputs": [
    {
     "data": {
      "text/html": [
       "<div>\n",
       "<style scoped>\n",
       "    .dataframe tbody tr th:only-of-type {\n",
       "        vertical-align: middle;\n",
       "    }\n",
       "\n",
       "    .dataframe tbody tr th {\n",
       "        vertical-align: top;\n",
       "    }\n",
       "\n",
       "    .dataframe thead th {\n",
       "        text-align: right;\n",
       "    }\n",
       "</style>\n",
       "<table border=\"1\" class=\"dataframe\">\n",
       "  <thead>\n",
       "    <tr style=\"text-align: right;\">\n",
       "      <th></th>\n",
       "      <th>Subject</th>\n",
       "      <th>Sex</th>\n",
       "      <th>Age</th>\n",
       "      <th>Cognition Fluid Composite Uncorrected Standard Score</th>\n",
       "      <th>Cognition Fluid Composite Age-Corrected Standard Score</th>\n",
       "      <th>CogFluidComp_nor</th>\n",
       "    </tr>\n",
       "  </thead>\n",
       "  <tbody>\n",
       "    <tr>\n",
       "      <th>0</th>\n",
       "      <td>NDAR_INV005V6D2C</td>\n",
       "      <td>F</td>\n",
       "      <td>121</td>\n",
       "      <td>90.0</td>\n",
       "      <td>90.0</td>\n",
       "      <td>-0.246335</td>\n",
       "    </tr>\n",
       "    <tr>\n",
       "      <th>1</th>\n",
       "      <td>NDAR_INV007W6H7B</td>\n",
       "      <td>M</td>\n",
       "      <td>126</td>\n",
       "      <td>101.0</td>\n",
       "      <td>104.0</td>\n",
       "      <td>0.815737</td>\n",
       "    </tr>\n",
       "    <tr>\n",
       "      <th>2</th>\n",
       "      <td>NDAR_INV00CY2MDM</td>\n",
       "      <td>M</td>\n",
       "      <td>130</td>\n",
       "      <td>85.0</td>\n",
       "      <td>85.0</td>\n",
       "      <td>-0.695695</td>\n",
       "    </tr>\n",
       "    <tr>\n",
       "      <th>3</th>\n",
       "      <td>NDAR_INV00HEV6HB</td>\n",
       "      <td>M</td>\n",
       "      <td>124</td>\n",
       "      <td>90.0</td>\n",
       "      <td>88.0</td>\n",
       "      <td>-0.317715</td>\n",
       "    </tr>\n",
       "    <tr>\n",
       "      <th>4</th>\n",
       "      <td>NDAR_INV00LH735Y</td>\n",
       "      <td>M</td>\n",
       "      <td>109</td>\n",
       "      <td>77.0</td>\n",
       "      <td>75.0</td>\n",
       "      <td>-1.422254</td>\n",
       "    </tr>\n",
       "    <tr>\n",
       "      <th>5</th>\n",
       "      <td>NDAR_INV00LJVZK2</td>\n",
       "      <td>M</td>\n",
       "      <td>121</td>\n",
       "      <td>86.0</td>\n",
       "      <td>81.0</td>\n",
       "      <td>-0.630846</td>\n",
       "    </tr>\n",
       "    <tr>\n",
       "      <th>6</th>\n",
       "      <td>NDAR_INV00NPMHND</td>\n",
       "      <td>F</td>\n",
       "      <td>118</td>\n",
       "      <td>77.0</td>\n",
       "      <td>74.0</td>\n",
       "      <td>-1.416269</td>\n",
       "    </tr>\n",
       "    <tr>\n",
       "      <th>7</th>\n",
       "      <td>NDAR_INV00R4TXET</td>\n",
       "      <td>F</td>\n",
       "      <td>114</td>\n",
       "      <td>104.0</td>\n",
       "      <td>118.0</td>\n",
       "      <td>1.177185</td>\n",
       "    </tr>\n",
       "  </tbody>\n",
       "</table>\n",
       "</div>"
      ],
      "text/plain": [
       "            Subject Sex  Age  \\\n",
       "0  NDAR_INV005V6D2C   F  121   \n",
       "1  NDAR_INV007W6H7B   M  126   \n",
       "2  NDAR_INV00CY2MDM   M  130   \n",
       "3  NDAR_INV00HEV6HB   M  124   \n",
       "4  NDAR_INV00LH735Y   M  109   \n",
       "5  NDAR_INV00LJVZK2   M  121   \n",
       "6  NDAR_INV00NPMHND   F  118   \n",
       "7  NDAR_INV00R4TXET   F  114   \n",
       "\n",
       "   Cognition Fluid Composite Uncorrected Standard Score  \\\n",
       "0                                               90.0      \n",
       "1                                              101.0      \n",
       "2                                               85.0      \n",
       "3                                               90.0      \n",
       "4                                               77.0      \n",
       "5                                               86.0      \n",
       "6                                               77.0      \n",
       "7                                              104.0      \n",
       "\n",
       "   Cognition Fluid Composite Age-Corrected Standard Score  CogFluidComp_nor  \n",
       "0                                               90.0              -0.246335  \n",
       "1                                              104.0               0.815737  \n",
       "2                                               85.0              -0.695695  \n",
       "3                                               88.0              -0.317715  \n",
       "4                                               75.0              -1.422254  \n",
       "5                                               81.0              -0.630846  \n",
       "6                                               74.0              -1.416269  \n",
       "7                                              118.0               1.177185  "
      ]
     },
     "execution_count": 8,
     "metadata": {},
     "output_type": "execute_result"
    }
   ],
   "source": [
    "df_new['CogFluidComp_nor'] = pd.DataFrame({'CogFluidComp_nor': xx})\n",
    "df_new.head(8)"
   ]
  },
  {
   "cell_type": "code",
   "execution_count": 9,
   "metadata": {
    "collapsed": true
   },
   "outputs": [],
   "source": [
    "filenames = df_new['Subject'].astype('str').as_matrix()\n",
    "filenames2 = ('Cortex_' + filenames + '.mat').tolist()"
   ]
  },
  {
   "cell_type": "code",
   "execution_count": 10,
   "metadata": {},
   "outputs": [
    {
     "name": "stdout",
     "output_type": "stream",
     "text": [
      "['Cortex_NDAR_INV005V6D2C.mat', 'Cortex_NDAR_INV007W6H7B.mat', 'Cortex_NDAR_INV00CY2MDM.mat', 'Cortex_NDAR_INV00HEV6HB.mat', 'Cortex_NDAR_INV00LH735Y.mat', 'Cortex_NDAR_INV00LJVZK2.mat', 'Cortex_NDAR_INV00NPMHND.mat', 'Cortex_NDAR_INV00R4TXET.mat', 'Cortex_NDAR_INV00U4FTRU.mat', 'Cortex_NDAR_INV00X2TBWJ.mat']\n"
     ]
    }
   ],
   "source": [
    "filenames3 = [f for f in sorted(filenames2)]\n",
    "print(filenames3[:10])"
   ]
  },
  {
   "cell_type": "code",
   "execution_count": 11,
   "metadata": {},
   "outputs": [
    {
     "name": "stdout",
     "output_type": "stream",
     "text": [
      "8070\n"
     ]
    }
   ],
   "source": [
    "print(len(encoded_labels))"
   ]
  },
  {
   "cell_type": "markdown",
   "metadata": {},
   "source": [
    "## 4. Load Input Data (Cortical & SubCortical)"
   ]
  },
  {
   "cell_type": "code",
   "execution_count": 12,
   "metadata": {},
   "outputs": [
    {
     "name": "stdout",
     "output_type": "stream",
     "text": [
      "Cortical\t(Samples, Nodes, Feat.):\t(8070, 32768, 6)\n",
      "Subcortical\t(Samples, Nodes, Feat.):\t(8070, 14848, 3)\n"
     ]
    }
   ],
   "source": [
    "graph_type = {'cortical':{'path':cortical_dir, \n",
    "                          'parts':['white', 'pial'], \n",
    "                          'halves':True},\n",
    "              \n",
    "              'subcortical':{'path':subcortical_dir,\n",
    "                             'parts':'all_sc', \n",
    "                             'halves':False}\n",
    "             }\n",
    "X = load_inputs(graph_type=graph_type, filenames = filenames2)\n",
    "\n",
    "sub_graphs = list(graph_type.keys())\n",
    "assert sub_graphs == ['cortical', 'subcortical']"
   ]
  },
  {
   "cell_type": "markdown",
   "metadata": {},
   "source": [
    "## 5. Analyze Distribution of Input Data for Both Surfaces"
   ]
  },
  {
   "cell_type": "code",
   "execution_count": 13,
   "metadata": {
    "collapsed": true
   },
   "outputs": [],
   "source": [
    "all_nodes = np.concatenate([X[sub].flatten() for sub in sub_graphs])"
   ]
  },
  {
   "cell_type": "markdown",
   "metadata": {},
   "source": [
    "## 6. MinMax Normalize Input Data"
   ]
  },
  {
   "cell_type": "code",
   "execution_count": 14,
   "metadata": {
    "collapsed": true
   },
   "outputs": [],
   "source": [
    "X_max = np.max(all_nodes)\n",
    "X_min = np.min(all_nodes)\n",
    "\n",
    "for sub in sub_graphs:\n",
    "    X[sub] = (X[sub] - X_min) / (X_max - X_min)\n",
    "    X[sub] *= 2\n",
    "    X[sub] -= 1\n",
    "del all_nodes   \n",
    "all_nodes = np.concatenate([X[sub].flatten() for sub in sub_graphs])\n",
    "del all_nodes"
   ]
  },
  {
   "cell_type": "markdown",
   "metadata": {},
   "source": [
    "## 7. Block Diagonalize the Cortical Features with the SubCortical Features"
   ]
  },
  {
   "cell_type": "code",
   "execution_count": 16,
   "metadata": {
    "collapsed": true
   },
   "outputs": [],
   "source": [
    "from scipy.linalg import block_diag\n",
    "from sklearn.utils import resample\n",
    "new_X = []\n",
    "for A,B in zip(X[f\"cortical\"], X[f\"subcortical\"]):\n",
    "    new_X.append(block_diag(A,B))"
   ]
  },
  {
   "cell_type": "code",
   "execution_count": 17,
   "metadata": {
    "collapsed": true
   },
   "outputs": [],
   "source": [
    "del sub_graphs, xx, df"
   ]
  },
  {
   "cell_type": "code",
   "execution_count": null,
   "metadata": {
    "collapsed": true
   },
   "outputs": [],
   "source": [
    "X = np.concatenate([np.expand_dims(i, axis=0) for i in new_X], axis=0).astype('float32')"
   ]
  },
  {
   "cell_type": "markdown",
   "metadata": {},
   "source": [
    "## 8. Split the training and validation dataset using Cross-validation"
   ]
  },
  {
   "cell_type": "code",
   "execution_count": 103,
   "metadata": {
    "collapsed": true
   },
   "outputs": [],
   "source": [
    "from sklearn.model_selection import KFold\n",
    "import numpy as np\n",
    "\n",
    "T  = [k for k in range(0,1332*5)]\n",
    "T2= [i for i in range(1332*6, 8070)]\n",
    "train_index = T2 + T\n",
    "val_index = [j for j in range(1332*5, 1332*6)]\n",
    "# print(train_dex)\n",
    "# print(len(train_index))\n",
    "X_train, X_val = X[train_index], X[val_index]\n",
    "y_train, y_val = encoded_labels[train_index], encoded_labels[val_index]\n"
   ]
  },
  {
   "cell_type": "code",
   "execution_count": 104,
   "metadata": {},
   "outputs": [
    {
     "name": "stdout",
     "output_type": "stream",
     "text": [
      "(6738, 47616, 9) (6738,) (1332, 47616, 9) (1332,)\n"
     ]
    }
   ],
   "source": [
    "print(X_train.shape, y_train.shape, X_val.shape, y_val.shape)"
   ]
  },
  {
   "cell_type": "markdown",
   "metadata": {},
   "source": [
    "## 9. Load Graph Adjacencies and Convert Into Laplacians"
   ]
  },
  {
   "cell_type": "code",
   "execution_count": 105,
   "metadata": {
    "collapsed": true
   },
   "outputs": [],
   "source": [
    "L = {}\n",
    "L['cortical'] = load_graph(graphs_folder=graphs_dir, prefix='M_w')\n",
    "L['cortical'] = [graph.laplacian(A) for A in L['cortical']]\n",
    "\n",
    "L['subcortical'] = load_graph(graphs_folder=graphs_dir, prefix='M_sc_w')\n",
    "L['subcortical'] = [graph.laplacian(A) for A in L['subcortical']]"
   ]
  },
  {
   "cell_type": "markdown",
   "metadata": {},
   "source": [
    "## 10. Block Diagonalize the Cortical & Subcortical Laplacians at Each Level of Coarsening"
   ]
  },
  {
   "cell_type": "code",
   "execution_count": 106,
   "metadata": {
    "collapsed": true
   },
   "outputs": [],
   "source": [
    "from scipy.sparse import block_diag as sparse_block_diag"
   ]
  },
  {
   "cell_type": "code",
   "execution_count": 107,
   "metadata": {
    "collapsed": true
   },
   "outputs": [],
   "source": [
    "new_L = []\n",
    "for A,B in zip(L[f\"cortical\"], L[f\"subcortical\"]):\n",
    "    new_L.append( sparse_block_diag((A,B)) )\n",
    "L = new_L\n",
    "del new_L"
   ]
  },
  {
   "cell_type": "markdown",
   "metadata": {},
   "source": [
    "## 11. ChebyNet Model Parameters Initialization"
   ]
  },
  {
   "cell_type": "code",
   "execution_count": 1,
   "metadata": {},
   "outputs": [],
   "source": [
    "# Initial training parameters\n",
    "params = {'num_epochs': 50, \n",
    "          'batch_size': 32,\n",
    "          'eval_frequency': 10\n",
    "         }\n",
    "\n",
    "# Expected features dimension sizing of the input\n",
    "N_feat = X_train.shape[-1]\n",
    "\n",
    "params.update(task = 'regression')\n",
    "\n",
    "if N_feat == 1:\n",
    "    params['V'] = None\n",
    "elif N_feat > 1:\n",
    "    params['V'] = N_feat\n",
    "else:\n",
    "    raise ValueError('Input features dim. should be >= 1')\n",
    "\n",
    "# # Network task initialization\n",
    "# C = np.max(encoded_labels) + 1\n",
    "# params.update(M = [C]) # number of units in fully-connected layer (set to # classes for classification)  \n",
    "if params['task'] == 'classification':\n",
    "    # Number of classes.()\n",
    "    C = np.max(Gender) + 1\n",
    "    assert C == np.unique(Gender).size\n",
    "    params['M']              = [C]  # Set fully connected layer output to the number of class\n",
    "else:\n",
    "    arr = [0,0,0]\n",
    "    C = np.max(arr) + 1    \n",
    "    params['M']              = [C]\n",
    "\n",
    "# Network Architecture\n",
    "params['F']   = [16 for _ in range(4)] # number of filters per layer\n",
    "params['K']   = 3                      # polynomial order of each layer\n",
    "params['p']   = 2                      # pooling size per layer\n",
    "params['B']   = len(params['F'])       # number of ResNet blocks\n",
    "params['F_l'] = 128                     # number of post-ResNet filters\n",
    "\n",
    "# Optimization Parameters\n",
    "params['regularization'] = 0.\n",
    "params['learning_rate']  = 5e-4\n",
    "params['decay_rate']     = 0.999\n",
    "params['momentum']       = 0.\n",
    "params['dropout']        = 1.          # Using TF 1.13.1 so this is the KEEP PROBABILITY\n",
    "params['decay_steps']    = 1.\n",
    "\n",
    "# AUGMENTATION PROB. SET TO ZERO (NO AUGMENTATION)\n",
    "params.update(prob_augment = 0.)\n",
    "\n",
    "# Model Saving\n",
    "params['dir_name'] = f\"{home}/models/ABCD_CogFluidScore_val2\"\n",
    "# os.mkdir(params['dir_name'])\n",
    "print(params['dir_name'])"
   ]
  },
  {
   "cell_type": "markdown",
   "metadata": {},
   "source": [
    "## 12. Create Model"
   ]
  },
  {
   "cell_type": "code",
   "execution_count": 109,
   "metadata": {},
   "outputs": [
    {
     "name": "stdout",
     "output_type": "stream",
     "text": [
      "NN architecture\n",
      "  input: M_0 = 47616\n",
      " \n",
      "Pre-convolution layer:\n",
      "  biases: L_0 * F_0_ = 47616 * 16 = 761856\n",
      "  weights: V * F_0 * K_0 = 9 * 16 * 3 = 432\n",
      " \n",
      "ResNet blocks:\n",
      " Block 0\n",
      "    batch normalization: 2 * L_0 = 2 * 47616 = 95232\n",
      "    weights: F_0 * F_0 * K_0 = 16 * 16 * 3 = 768\n",
      " Block 1\n",
      "    batch normalization: 2 * L_1 = 2 * 23808 = 47616\n",
      "    weights: F_1 * F_1 * K_1 = 16 * 16 * 3 = 768\n",
      " Block 2\n",
      "    batch normalization: 2 * L_2 = 2 * 11904 = 23808\n",
      "    weights: F_2 * F_2 * K_2 = 16 * 16 * 3 = 768\n",
      " Block 3\n",
      "    batch normalization: 2 * L_3 = 2 * 5952 = 11904\n",
      "    weights: F_3 * F_3 * K_3 = 16 * 16 * 3 = 768\n",
      " \n",
      "Post-convolution layer:\n",
      "  batch normalization: 2 * L_3 = 2 * 5952 = 11904\n",
      " \n",
      "Fully connected layer:\n",
      "  weights: K_3 * M = 3 * 1 = 3\n",
      "L_post = 2976 ; F_post = 128 ; K_post = 3\n"
     ]
    }
   ],
   "source": [
    "model = cgcnn(L, **params)"
   ]
  },
  {
   "cell_type": "markdown",
   "metadata": {},
   "source": [
    "## 13. Training "
   ]
  },
  {
   "cell_type": "code",
   "execution_count": 2,
   "metadata": {},
   "outputs": [],
   "source": [
    "accuracy, loss, t_step = model.fit(X_train, y_train, X_val, y_val)"
   ]
  },
  {
   "cell_type": "code",
   "execution_count": 38,
   "metadata": {},
   "outputs": [
    {
     "data": {
      "image/png": "[encoded data removed]",
      "text/plain": [
       "<Figure size 432x288 with 1 Axes>"
      ]
     },
     "metadata": {
      "needs_background": "light"
     },
     "output_type": "display_data"
    }
   ],
   "source": [
    "plt.plot(np.arange(0,1535*2,2),accuracy)\n",
    "plt.title('Accuracy of GCN vs. Epochs')\n",
    "plt.xlabel('Epoch')\n",
    "plt.ylabel('Accuracy')\n",
    "plt.show()"
   ]
  },
  {
   "cell_type": "markdown",
   "metadata": {},
   "source": [
    "## 14. CAM & Testing for each fold after training each fold"
   ]
  },
  {
   "cell_type": "code",
   "execution_count": 97,
   "metadata": {},
   "outputs": [
    {
     "name": "stdout",
     "output_type": "stream",
     "text": [
      "Size CAM_map = 6738 x 2976 x 1\n",
      "Size CAM_pred = 32 x 2976 x 1\n",
      "Begin = 0 ; End = 32\n",
      "Size CAM_pred = 32 x 2976 x 1\n",
      "Begin = 32 ; End = 64\n",
      "Size CAM_pred = 32 x 2976 x 1\n",
      "Begin = 64 ; End = 96\n",
      "Size CAM_pred = 32 x 2976 x 1\n",
      "Begin = 96 ; End = 128\n",
      "Size CAM_pred = 32 x 2976 x 1\n",
      "Begin = 128 ; End = 160\n",
      "Size CAM_pred = 32 x 2976 x 1\n",
      "Begin = 160 ; End = 192\n",
      "Size CAM_pred = 32 x 2976 x 1\n",
      "Begin = 192 ; End = 224\n",
      "Size CAM_pred = 32 x 2976 x 1\n",
      "Begin = 224 ; End = 256\n",
      "Size CAM_pred = 32 x 2976 x 1\n",
      "Begin = 256 ; End = 288\n",
      "Size CAM_pred = 32 x 2976 x 1\n",
      "Begin = 288 ; End = 320\n",
      "Size CAM_pred = 32 x 2976 x 1\n",
      "Begin = 320 ; End = 352\n",
      "Size CAM_pred = 32 x 2976 x 1\n",
      "Begin = 352 ; End = 384\n",
      "Size CAM_pred = 32 x 2976 x 1\n",
      "Begin = 384 ; End = 416\n",
      "Size CAM_pred = 32 x 2976 x 1\n",
      "Begin = 416 ; End = 448\n",
      "Size CAM_pred = 32 x 2976 x 1\n",
      "Begin = 448 ; End = 480\n",
      "Size CAM_pred = 32 x 2976 x 1\n",
      "Begin = 480 ; End = 512\n",
      "Size CAM_pred = 32 x 2976 x 1\n",
      "Begin = 512 ; End = 544\n",
      "Size CAM_pred = 32 x 2976 x 1\n",
      "Begin = 544 ; End = 576\n",
      "Size CAM_pred = 32 x 2976 x 1\n",
      "Begin = 576 ; End = 608\n",
      "Size CAM_pred = 32 x 2976 x 1\n",
      "Begin = 608 ; End = 640\n",
      "Size CAM_pred = 32 x 2976 x 1\n",
      "Begin = 640 ; End = 672\n",
      "Size CAM_pred = 32 x 2976 x 1\n",
      "Begin = 672 ; End = 704\n",
      "Size CAM_pred = 32 x 2976 x 1\n",
      "Begin = 704 ; End = 736\n",
      "Size CAM_pred = 32 x 2976 x 1\n",
      "Begin = 736 ; End = 768\n",
      "Size CAM_pred = 32 x 2976 x 1\n",
      "Begin = 768 ; End = 800\n",
      "Size CAM_pred = 32 x 2976 x 1\n",
      "Begin = 800 ; End = 832\n",
      "Size CAM_pred = 32 x 2976 x 1\n",
      "Begin = 832 ; End = 864\n",
      "Size CAM_pred = 32 x 2976 x 1\n",
      "Begin = 864 ; End = 896\n",
      "Size CAM_pred = 32 x 2976 x 1\n",
      "Begin = 896 ; End = 928\n",
      "Size CAM_pred = 32 x 2976 x 1\n",
      "Begin = 928 ; End = 960\n",
      "Size CAM_pred = 32 x 2976 x 1\n",
      "Begin = 960 ; End = 992\n",
      "Size CAM_pred = 32 x 2976 x 1\n",
      "Begin = 992 ; End = 1024\n",
      "Size CAM_pred = 32 x 2976 x 1\n",
      "Begin = 1024 ; End = 1056\n",
      "Size CAM_pred = 32 x 2976 x 1\n",
      "Begin = 1056 ; End = 1088\n",
      "Size CAM_pred = 32 x 2976 x 1\n",
      "Begin = 1088 ; End = 1120\n",
      "Size CAM_pred = 32 x 2976 x 1\n",
      "Begin = 1120 ; End = 1152\n",
      "Size CAM_pred = 32 x 2976 x 1\n",
      "Begin = 1152 ; End = 1184\n",
      "Size CAM_pred = 32 x 2976 x 1\n",
      "Begin = 1184 ; End = 1216\n",
      "Size CAM_pred = 32 x 2976 x 1\n",
      "Begin = 1216 ; End = 1248\n",
      "Size CAM_pred = 32 x 2976 x 1\n",
      "Begin = 1248 ; End = 1280\n",
      "Size CAM_pred = 32 x 2976 x 1\n",
      "Begin = 1280 ; End = 1312\n",
      "Size CAM_pred = 32 x 2976 x 1\n",
      "Begin = 1312 ; End = 1344\n",
      "Size CAM_pred = 32 x 2976 x 1\n",
      "Begin = 1344 ; End = 1376\n",
      "Size CAM_pred = 32 x 2976 x 1\n",
      "Begin = 1376 ; End = 1408\n",
      "Size CAM_pred = 32 x 2976 x 1\n",
      "Begin = 1408 ; End = 1440\n",
      "Size CAM_pred = 32 x 2976 x 1\n",
      "Begin = 1440 ; End = 1472\n",
      "Size CAM_pred = 32 x 2976 x 1\n",
      "Begin = 1472 ; End = 1504\n",
      "Size CAM_pred = 32 x 2976 x 1\n",
      "Begin = 1504 ; End = 1536\n",
      "Size CAM_pred = 32 x 2976 x 1\n",
      "Begin = 1536 ; End = 1568\n",
      "Size CAM_pred = 32 x 2976 x 1\n",
      "Begin = 1568 ; End = 1600\n",
      "Size CAM_pred = 32 x 2976 x 1\n",
      "Begin = 1600 ; End = 1632\n",
      "Size CAM_pred = 32 x 2976 x 1\n",
      "Begin = 1632 ; End = 1664\n",
      "Size CAM_pred = 32 x 2976 x 1\n",
      "Begin = 1664 ; End = 1696\n",
      "Size CAM_pred = 32 x 2976 x 1\n",
      "Begin = 1696 ; End = 1728\n",
      "Size CAM_pred = 32 x 2976 x 1\n",
      "Begin = 1728 ; End = 1760\n",
      "Size CAM_pred = 32 x 2976 x 1\n",
      "Begin = 1760 ; End = 1792\n",
      "Size CAM_pred = 32 x 2976 x 1\n",
      "Begin = 1792 ; End = 1824\n",
      "Size CAM_pred = 32 x 2976 x 1\n",
      "Begin = 1824 ; End = 1856\n",
      "Size CAM_pred = 32 x 2976 x 1\n",
      "Begin = 1856 ; End = 1888\n",
      "Size CAM_pred = 32 x 2976 x 1\n",
      "Begin = 1888 ; End = 1920\n",
      "Size CAM_pred = 32 x 2976 x 1\n",
      "Begin = 1920 ; End = 1952\n",
      "Size CAM_pred = 32 x 2976 x 1\n",
      "Begin = 1952 ; End = 1984\n",
      "Size CAM_pred = 32 x 2976 x 1\n",
      "Begin = 1984 ; End = 2016\n",
      "Size CAM_pred = 32 x 2976 x 1\n",
      "Begin = 2016 ; End = 2048\n",
      "Size CAM_pred = 32 x 2976 x 1\n",
      "Begin = 2048 ; End = 2080\n",
      "Size CAM_pred = 32 x 2976 x 1\n",
      "Begin = 2080 ; End = 2112\n",
      "Size CAM_pred = 32 x 2976 x 1\n",
      "Begin = 2112 ; End = 2144\n",
      "Size CAM_pred = 32 x 2976 x 1\n",
      "Begin = 2144 ; End = 2176\n",
      "Size CAM_pred = 32 x 2976 x 1\n",
      "Begin = 2176 ; End = 2208\n",
      "Size CAM_pred = 32 x 2976 x 1\n",
      "Begin = 2208 ; End = 2240\n",
      "Size CAM_pred = 32 x 2976 x 1\n",
      "Begin = 2240 ; End = 2272\n",
      "Size CAM_pred = 32 x 2976 x 1\n",
      "Begin = 2272 ; End = 2304\n",
      "Size CAM_pred = 32 x 2976 x 1\n",
      "Begin = 2304 ; End = 2336\n",
      "Size CAM_pred = 32 x 2976 x 1\n",
      "Begin = 2336 ; End = 2368\n",
      "Size CAM_pred = 32 x 2976 x 1\n",
      "Begin = 2368 ; End = 2400\n",
      "Size CAM_pred = 32 x 2976 x 1\n",
      "Begin = 2400 ; End = 2432\n",
      "Size CAM_pred = 32 x 2976 x 1\n",
      "Begin = 2432 ; End = 2464\n",
      "Size CAM_pred = 32 x 2976 x 1\n",
      "Begin = 2464 ; End = 2496\n",
      "Size CAM_pred = 32 x 2976 x 1\n",
      "Begin = 2496 ; End = 2528\n",
      "Size CAM_pred = 32 x 2976 x 1\n",
      "Begin = 2528 ; End = 2560\n",
      "Size CAM_pred = 32 x 2976 x 1\n",
      "Begin = 2560 ; End = 2592\n",
      "Size CAM_pred = 32 x 2976 x 1\n",
      "Begin = 2592 ; End = 2624\n",
      "Size CAM_pred = 32 x 2976 x 1\n",
      "Begin = 2624 ; End = 2656\n",
      "Size CAM_pred = 32 x 2976 x 1\n",
      "Begin = 2656 ; End = 2688\n",
      "Size CAM_pred = 32 x 2976 x 1\n",
      "Begin = 2688 ; End = 2720\n",
      "Size CAM_pred = 32 x 2976 x 1\n",
      "Begin = 2720 ; End = 2752\n",
      "Size CAM_pred = 32 x 2976 x 1\n",
      "Begin = 2752 ; End = 2784\n",
      "Size CAM_pred = 32 x 2976 x 1\n",
      "Begin = 2784 ; End = 2816\n",
      "Size CAM_pred = 32 x 2976 x 1\n",
      "Begin = 2816 ; End = 2848\n",
      "Size CAM_pred = 32 x 2976 x 1\n",
      "Begin = 2848 ; End = 2880\n",
      "Size CAM_pred = 32 x 2976 x 1\n",
      "Begin = 2880 ; End = 2912\n",
      "Size CAM_pred = 32 x 2976 x 1\n",
      "Begin = 2912 ; End = 2944\n",
      "Size CAM_pred = 32 x 2976 x 1\n",
      "Begin = 2944 ; End = 2976\n",
      "Size CAM_pred = 32 x 2976 x 1\n",
      "Begin = 2976 ; End = 3008\n",
      "Size CAM_pred = 32 x 2976 x 1\n",
      "Begin = 3008 ; End = 3040\n",
      "Size CAM_pred = 32 x 2976 x 1\n",
      "Begin = 3040 ; End = 3072\n",
      "Size CAM_pred = 32 x 2976 x 1\n",
      "Begin = 3072 ; End = 3104\n",
      "Size CAM_pred = 32 x 2976 x 1\n",
      "Begin = 3104 ; End = 3136\n",
      "Size CAM_pred = 32 x 2976 x 1\n",
      "Begin = 3136 ; End = 3168\n",
      "Size CAM_pred = 32 x 2976 x 1\n",
      "Begin = 3168 ; End = 3200\n",
      "Size CAM_pred = 32 x 2976 x 1\n",
      "Begin = 3200 ; End = 3232\n",
      "Size CAM_pred = 32 x 2976 x 1\n",
      "Begin = 3232 ; End = 3264\n",
      "Size CAM_pred = 32 x 2976 x 1\n",
      "Begin = 3264 ; End = 3296\n",
      "Size CAM_pred = 32 x 2976 x 1\n",
      "Begin = 3296 ; End = 3328\n",
      "Size CAM_pred = 32 x 2976 x 1\n",
      "Begin = 3328 ; End = 3360\n",
      "Size CAM_pred = 32 x 2976 x 1\n",
      "Begin = 3360 ; End = 3392\n",
      "Size CAM_pred = 32 x 2976 x 1\n",
      "Begin = 3392 ; End = 3424\n",
      "Size CAM_pred = 32 x 2976 x 1\n",
      "Begin = 3424 ; End = 3456\n",
      "Size CAM_pred = 32 x 2976 x 1\n",
      "Begin = 3456 ; End = 3488\n",
      "Size CAM_pred = 32 x 2976 x 1\n",
      "Begin = 3488 ; End = 3520\n",
      "Size CAM_pred = 32 x 2976 x 1\n",
      "Begin = 3520 ; End = 3552\n",
      "Size CAM_pred = 32 x 2976 x 1\n",
      "Begin = 3552 ; End = 3584\n",
      "Size CAM_pred = 32 x 2976 x 1\n",
      "Begin = 3584 ; End = 3616\n",
      "Size CAM_pred = 32 x 2976 x 1\n",
      "Begin = 3616 ; End = 3648\n",
      "Size CAM_pred = 32 x 2976 x 1\n",
      "Begin = 3648 ; End = 3680\n",
      "Size CAM_pred = 32 x 2976 x 1\n",
      "Begin = 3680 ; End = 3712\n",
      "Size CAM_pred = 32 x 2976 x 1\n",
      "Begin = 3712 ; End = 3744\n",
      "Size CAM_pred = 32 x 2976 x 1\n",
      "Begin = 3744 ; End = 3776\n",
      "Size CAM_pred = 32 x 2976 x 1\n",
      "Begin = 3776 ; End = 3808\n",
      "Size CAM_pred = 32 x 2976 x 1\n",
      "Begin = 3808 ; End = 3840\n",
      "Size CAM_pred = 32 x 2976 x 1\n",
      "Begin = 3840 ; End = 3872\n",
      "Size CAM_pred = 32 x 2976 x 1\n",
      "Begin = 3872 ; End = 3904\n",
      "Size CAM_pred = 32 x 2976 x 1\n",
      "Begin = 3904 ; End = 3936\n",
      "Size CAM_pred = 32 x 2976 x 1\n",
      "Begin = 3936 ; End = 3968\n",
      "Size CAM_pred = 32 x 2976 x 1\n",
      "Begin = 3968 ; End = 4000\n",
      "Size CAM_pred = 32 x 2976 x 1\n",
      "Begin = 4000 ; End = 4032\n",
      "Size CAM_pred = 32 x 2976 x 1\n",
      "Begin = 4032 ; End = 4064\n",
      "Size CAM_pred = 32 x 2976 x 1\n",
      "Begin = 4064 ; End = 4096\n",
      "Size CAM_pred = 32 x 2976 x 1\n",
      "Begin = 4096 ; End = 4128\n",
      "Size CAM_pred = 32 x 2976 x 1\n",
      "Begin = 4128 ; End = 4160\n",
      "Size CAM_pred = 32 x 2976 x 1\n",
      "Begin = 4160 ; End = 4192\n",
      "Size CAM_pred = 32 x 2976 x 1\n",
      "Begin = 4192 ; End = 4224\n",
      "Size CAM_pred = 32 x 2976 x 1\n",
      "Begin = 4224 ; End = 4256\n",
      "Size CAM_pred = 32 x 2976 x 1\n",
      "Begin = 4256 ; End = 4288\n",
      "Size CAM_pred = 32 x 2976 x 1\n",
      "Begin = 4288 ; End = 4320\n",
      "Size CAM_pred = 32 x 2976 x 1\n",
      "Begin = 4320 ; End = 4352\n",
      "Size CAM_pred = 32 x 2976 x 1\n",
      "Begin = 4352 ; End = 4384\n",
      "Size CAM_pred = 32 x 2976 x 1\n",
      "Begin = 4384 ; End = 4416\n",
      "Size CAM_pred = 32 x 2976 x 1\n",
      "Begin = 4416 ; End = 4448\n",
      "Size CAM_pred = 32 x 2976 x 1\n",
      "Begin = 4448 ; End = 4480\n",
      "Size CAM_pred = 32 x 2976 x 1\n",
      "Begin = 4480 ; End = 4512\n",
      "Size CAM_pred = 32 x 2976 x 1\n",
      "Begin = 4512 ; End = 4544\n",
      "Size CAM_pred = 32 x 2976 x 1\n",
      "Begin = 4544 ; End = 4576\n",
      "Size CAM_pred = 32 x 2976 x 1\n",
      "Begin = 4576 ; End = 4608\n",
      "Size CAM_pred = 32 x 2976 x 1\n",
      "Begin = 4608 ; End = 4640\n",
      "Size CAM_pred = 32 x 2976 x 1\n",
      "Begin = 4640 ; End = 4672\n",
      "Size CAM_pred = 32 x 2976 x 1\n",
      "Begin = 4672 ; End = 4704\n",
      "Size CAM_pred = 32 x 2976 x 1\n",
      "Begin = 4704 ; End = 4736\n"
     ]
    },
    {
     "name": "stdout",
     "output_type": "stream",
     "text": [
      "Size CAM_pred = 32 x 2976 x 1\n",
      "Begin = 4736 ; End = 4768\n",
      "Size CAM_pred = 32 x 2976 x 1\n",
      "Begin = 4768 ; End = 4800\n",
      "Size CAM_pred = 32 x 2976 x 1\n",
      "Begin = 4800 ; End = 4832\n",
      "Size CAM_pred = 32 x 2976 x 1\n",
      "Begin = 4832 ; End = 4864\n",
      "Size CAM_pred = 32 x 2976 x 1\n",
      "Begin = 4864 ; End = 4896\n",
      "Size CAM_pred = 32 x 2976 x 1\n",
      "Begin = 4896 ; End = 4928\n",
      "Size CAM_pred = 32 x 2976 x 1\n",
      "Begin = 4928 ; End = 4960\n",
      "Size CAM_pred = 32 x 2976 x 1\n",
      "Begin = 4960 ; End = 4992\n",
      "Size CAM_pred = 32 x 2976 x 1\n",
      "Begin = 4992 ; End = 5024\n",
      "Size CAM_pred = 32 x 2976 x 1\n",
      "Begin = 5024 ; End = 5056\n",
      "Size CAM_pred = 32 x 2976 x 1\n",
      "Begin = 5056 ; End = 5088\n",
      "Size CAM_pred = 32 x 2976 x 1\n",
      "Begin = 5088 ; End = 5120\n",
      "Size CAM_pred = 32 x 2976 x 1\n",
      "Begin = 5120 ; End = 5152\n",
      "Size CAM_pred = 32 x 2976 x 1\n",
      "Begin = 5152 ; End = 5184\n",
      "Size CAM_pred = 32 x 2976 x 1\n",
      "Begin = 5184 ; End = 5216\n",
      "Size CAM_pred = 32 x 2976 x 1\n",
      "Begin = 5216 ; End = 5248\n",
      "Size CAM_pred = 32 x 2976 x 1\n",
      "Begin = 5248 ; End = 5280\n",
      "Size CAM_pred = 32 x 2976 x 1\n",
      "Begin = 5280 ; End = 5312\n",
      "Size CAM_pred = 32 x 2976 x 1\n",
      "Begin = 5312 ; End = 5344\n",
      "Size CAM_pred = 32 x 2976 x 1\n",
      "Begin = 5344 ; End = 5376\n",
      "Size CAM_pred = 32 x 2976 x 1\n",
      "Begin = 5376 ; End = 5408\n",
      "Size CAM_pred = 32 x 2976 x 1\n",
      "Begin = 5408 ; End = 5440\n",
      "Size CAM_pred = 32 x 2976 x 1\n",
      "Begin = 5440 ; End = 5472\n",
      "Size CAM_pred = 32 x 2976 x 1\n",
      "Begin = 5472 ; End = 5504\n",
      "Size CAM_pred = 32 x 2976 x 1\n",
      "Begin = 5504 ; End = 5536\n",
      "Size CAM_pred = 32 x 2976 x 1\n",
      "Begin = 5536 ; End = 5568\n",
      "Size CAM_pred = 32 x 2976 x 1\n",
      "Begin = 5568 ; End = 5600\n",
      "Size CAM_pred = 32 x 2976 x 1\n",
      "Begin = 5600 ; End = 5632\n",
      "Size CAM_pred = 32 x 2976 x 1\n",
      "Begin = 5632 ; End = 5664\n",
      "Size CAM_pred = 32 x 2976 x 1\n",
      "Begin = 5664 ; End = 5696\n",
      "Size CAM_pred = 32 x 2976 x 1\n",
      "Begin = 5696 ; End = 5728\n",
      "Size CAM_pred = 32 x 2976 x 1\n",
      "Begin = 5728 ; End = 5760\n",
      "Size CAM_pred = 32 x 2976 x 1\n",
      "Begin = 5760 ; End = 5792\n",
      "Size CAM_pred = 32 x 2976 x 1\n",
      "Begin = 5792 ; End = 5824\n",
      "Size CAM_pred = 32 x 2976 x 1\n",
      "Begin = 5824 ; End = 5856\n",
      "Size CAM_pred = 32 x 2976 x 1\n",
      "Begin = 5856 ; End = 5888\n",
      "Size CAM_pred = 32 x 2976 x 1\n",
      "Begin = 5888 ; End = 5920\n",
      "Size CAM_pred = 32 x 2976 x 1\n",
      "Begin = 5920 ; End = 5952\n",
      "Size CAM_pred = 32 x 2976 x 1\n",
      "Begin = 5952 ; End = 5984\n",
      "Size CAM_pred = 32 x 2976 x 1\n",
      "Begin = 5984 ; End = 6016\n",
      "Size CAM_pred = 32 x 2976 x 1\n",
      "Begin = 6016 ; End = 6048\n",
      "Size CAM_pred = 32 x 2976 x 1\n",
      "Begin = 6048 ; End = 6080\n",
      "Size CAM_pred = 32 x 2976 x 1\n",
      "Begin = 6080 ; End = 6112\n",
      "Size CAM_pred = 32 x 2976 x 1\n",
      "Begin = 6112 ; End = 6144\n",
      "Size CAM_pred = 32 x 2976 x 1\n",
      "Begin = 6144 ; End = 6176\n",
      "Size CAM_pred = 32 x 2976 x 1\n",
      "Begin = 6176 ; End = 6208\n",
      "Size CAM_pred = 32 x 2976 x 1\n",
      "Begin = 6208 ; End = 6240\n",
      "Size CAM_pred = 32 x 2976 x 1\n",
      "Begin = 6240 ; End = 6272\n",
      "Size CAM_pred = 32 x 2976 x 1\n",
      "Begin = 6272 ; End = 6304\n",
      "Size CAM_pred = 32 x 2976 x 1\n",
      "Begin = 6304 ; End = 6336\n",
      "Size CAM_pred = 32 x 2976 x 1\n",
      "Begin = 6336 ; End = 6368\n",
      "Size CAM_pred = 32 x 2976 x 1\n",
      "Begin = 6368 ; End = 6400\n",
      "Size CAM_pred = 32 x 2976 x 1\n",
      "Begin = 6400 ; End = 6432\n",
      "Size CAM_pred = 32 x 2976 x 1\n",
      "Begin = 6432 ; End = 6464\n",
      "Size CAM_pred = 32 x 2976 x 1\n",
      "Begin = 6464 ; End = 6496\n",
      "Size CAM_pred = 32 x 2976 x 1\n",
      "Begin = 6496 ; End = 6528\n",
      "Size CAM_pred = 32 x 2976 x 1\n",
      "Begin = 6528 ; End = 6560\n",
      "Size CAM_pred = 32 x 2976 x 1\n",
      "Begin = 6560 ; End = 6592\n",
      "Size CAM_pred = 32 x 2976 x 1\n",
      "Begin = 6592 ; End = 6624\n",
      "Size CAM_pred = 32 x 2976 x 1\n",
      "Begin = 6624 ; End = 6656\n",
      "Size CAM_pred = 32 x 2976 x 1\n",
      "Begin = 6656 ; End = 6688\n",
      "Size CAM_pred = 32 x 2976 x 1\n",
      "Begin = 6688 ; End = 6720\n",
      "Size CAM_pred = 32 x 2976 x 1\n",
      "Begin = 6720 ; End = 6738\n"
     ]
    },
    {
     "data": {
      "text/plain": [
       "[<matplotlib.lines.Line2D at 0x1d953a454a8>]"
      ]
     },
     "execution_count": 97,
     "metadata": {},
     "output_type": "execute_result"
    },
    {
     "data": {
      "image/png": "[encoded data removed]",
      "text/plain": [
       "<Figure size 432x288 with 1 Axes>"
      ]
     },
     "metadata": {
      "needs_background": "light"
     },
     "output_type": "display_data"
    }
   ],
   "source": [
    "predictions, CAM_map = model.predict(X_train, CAM = True)\n",
    "plt.plot(y_train, predictions, '.')"
   ]
  },
  {
   "cell_type": "code",
   "execution_count": 3,
   "metadata": {},
   "outputs": [],
   "source": [
    "from sklearn.metrics import r2_score\n",
    "from sklearn.metrics import mean_squared_error\n",
    "res = r2_score(y_train,predictions)\n",
    "print('r2', res)\n",
    "from scipy.stats import pearsonr\n",
    "corr, p_value = pearsonr(y_train, predictions)\n",
    "print('corr', corr, 'p', p_value)\n",
    "\n",
    "mse = mean_squared_error(y_train, predictions)\n",
    "print('mse', mse)"
   ]
  },
  {
   "cell_type": "code",
   "execution_count": 101,
   "metadata": {},
   "outputs": [
    {
     "name": "stdout",
     "output_type": "stream",
     "text": [
      "(0, 2976, 1)\n"
     ]
    }
   ],
   "source": [
    "print(CAM_map.shape)\n",
    "np.save('path',CAM_map)"
   ]
  },
  {
   "cell_type": "code",
   "execution_count": 110,
   "metadata": {},
   "outputs": [
    {
     "name": "stdout",
     "output_type": "stream",
     "text": [
      "Size CAM_map = 1332 x 2976 x 1\n",
      "Size CAM_pred = 32 x 2976 x 1\n",
      "Begin = 0 ; End = 32\n",
      "Size CAM_pred = 32 x 2976 x 1\n",
      "Begin = 32 ; End = 64\n",
      "Size CAM_pred = 32 x 2976 x 1\n",
      "Begin = 64 ; End = 96\n",
      "Size CAM_pred = 32 x 2976 x 1\n",
      "Begin = 96 ; End = 128\n",
      "Size CAM_pred = 32 x 2976 x 1\n",
      "Begin = 128 ; End = 160\n",
      "Size CAM_pred = 32 x 2976 x 1\n",
      "Begin = 160 ; End = 192\n",
      "Size CAM_pred = 32 x 2976 x 1\n",
      "Begin = 192 ; End = 224\n",
      "Size CAM_pred = 32 x 2976 x 1\n",
      "Begin = 224 ; End = 256\n",
      "Size CAM_pred = 32 x 2976 x 1\n",
      "Begin = 256 ; End = 288\n",
      "Size CAM_pred = 32 x 2976 x 1\n",
      "Begin = 288 ; End = 320\n",
      "Size CAM_pred = 32 x 2976 x 1\n",
      "Begin = 320 ; End = 352\n",
      "Size CAM_pred = 32 x 2976 x 1\n",
      "Begin = 352 ; End = 384\n",
      "Size CAM_pred = 32 x 2976 x 1\n",
      "Begin = 384 ; End = 416\n",
      "Size CAM_pred = 32 x 2976 x 1\n",
      "Begin = 416 ; End = 448\n",
      "Size CAM_pred = 32 x 2976 x 1\n",
      "Begin = 448 ; End = 480\n",
      "Size CAM_pred = 32 x 2976 x 1\n",
      "Begin = 480 ; End = 512\n",
      "Size CAM_pred = 32 x 2976 x 1\n",
      "Begin = 512 ; End = 544\n",
      "Size CAM_pred = 32 x 2976 x 1\n",
      "Begin = 544 ; End = 576\n",
      "Size CAM_pred = 32 x 2976 x 1\n",
      "Begin = 576 ; End = 608\n",
      "Size CAM_pred = 32 x 2976 x 1\n",
      "Begin = 608 ; End = 640\n",
      "Size CAM_pred = 32 x 2976 x 1\n",
      "Begin = 640 ; End = 672\n",
      "Size CAM_pred = 32 x 2976 x 1\n",
      "Begin = 672 ; End = 704\n",
      "Size CAM_pred = 32 x 2976 x 1\n",
      "Begin = 704 ; End = 736\n",
      "Size CAM_pred = 32 x 2976 x 1\n",
      "Begin = 736 ; End = 768\n",
      "Size CAM_pred = 32 x 2976 x 1\n",
      "Begin = 768 ; End = 800\n",
      "Size CAM_pred = 32 x 2976 x 1\n",
      "Begin = 800 ; End = 832\n",
      "Size CAM_pred = 32 x 2976 x 1\n",
      "Begin = 832 ; End = 864\n",
      "Size CAM_pred = 32 x 2976 x 1\n",
      "Begin = 864 ; End = 896\n",
      "Size CAM_pred = 32 x 2976 x 1\n",
      "Begin = 896 ; End = 928\n",
      "Size CAM_pred = 32 x 2976 x 1\n",
      "Begin = 928 ; End = 960\n",
      "Size CAM_pred = 32 x 2976 x 1\n",
      "Begin = 960 ; End = 992\n",
      "Size CAM_pred = 32 x 2976 x 1\n",
      "Begin = 992 ; End = 1024\n",
      "Size CAM_pred = 32 x 2976 x 1\n",
      "Begin = 1024 ; End = 1056\n",
      "Size CAM_pred = 32 x 2976 x 1\n",
      "Begin = 1056 ; End = 1088\n",
      "Size CAM_pred = 32 x 2976 x 1\n",
      "Begin = 1088 ; End = 1120\n",
      "Size CAM_pred = 32 x 2976 x 1\n",
      "Begin = 1120 ; End = 1152\n",
      "Size CAM_pred = 32 x 2976 x 1\n",
      "Begin = 1152 ; End = 1184\n",
      "Size CAM_pred = 32 x 2976 x 1\n",
      "Begin = 1184 ; End = 1216\n",
      "Size CAM_pred = 32 x 2976 x 1\n",
      "Begin = 1216 ; End = 1248\n",
      "Size CAM_pred = 32 x 2976 x 1\n",
      "Begin = 1248 ; End = 1280\n",
      "Size CAM_pred = 32 x 2976 x 1\n",
      "Begin = 1280 ; End = 1312\n",
      "Size CAM_pred = 32 x 2976 x 1\n",
      "Begin = 1312 ; End = 1332\n"
     ]
    },
    {
     "data": {
      "text/plain": [
       "[<matplotlib.lines.Line2D at 0x1d952b6df98>]"
      ]
     },
     "execution_count": 110,
     "metadata": {},
     "output_type": "execute_result"
    },
    {
     "data": {
      "image/png": "[encoded data removed]",
      "text/plain": [
       "<Figure size 432x288 with 1 Axes>"
      ]
     },
     "metadata": {
      "needs_background": "light"
     },
     "output_type": "display_data"
    }
   ],
   "source": [
    "predictions, CAM_map = model.predict(X_val, CAM = True)\n",
    "plt.plot(y_val, predictions, '.')"
   ]
  },
  {
   "cell_type": "code",
   "execution_count": 4,
   "metadata": {},
   "outputs": [],
   "source": [
    "res = r2_score(y_val,predictions)\n",
    "print('r2', res)\n",
    "from scipy.stats import pearsonr\n",
    "corr, p_value = pearsonr(y_val, predictions)\n",
    "print('corr', corr, 'p', p_value)\n",
    "\n",
    "mse = mean_squared_error(y_val, predictions)\n",
    "print('mse', mse)"
   ]
  },
  {
   "cell_type": "code",
   "execution_count": 112,
   "metadata": {},
   "outputs": [
    {
     "name": "stdout",
     "output_type": "stream",
     "text": [
      "(1332, 2976, 1)\n"
     ]
    }
   ],
   "source": [
    "print(CAM_map.shape)\n",
    "np.save('path',CAM_map)"
   ]
  }
 ],
 "metadata": {
  "kernelspec": {
   "display_name": "Python 3",
   "language": "python",
   "name": "python3"
  },
  "language_info": {
   "codemirror_mode": {
    "name": "ipython",
    "version": 3
   },
   "file_extension": ".py",
   "mimetype": "text/x-python",
   "name": "python",
   "nbconvert_exporter": "python",
   "pygments_lexer": "ipython3",
   "version": "3.5.3"
  }
 },
 "nbformat": 4,
 "nbformat_minor": 4
}
