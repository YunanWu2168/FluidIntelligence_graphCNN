{
 "cells": [
  {
   "cell_type": "markdown",
   "metadata": {
    "collapsed": true
   },
   "source": [
    "## 1. Load the package"
   ]
  },
  {
   "cell_type": "code",
   "execution_count": 1,
   "metadata": {
    "collapsed": true
   },
   "outputs": [],
   "source": [
    "import os, shutil\n",
    "os.environ['TF_CPP_MIN_LOG_LEVEL'] = '3' \n",
    "\n",
    "import warnings\n",
    "warnings.filterwarnings('ignore')\n",
    "\n",
    "from tensorflow.python.util import deprecation\n",
    "deprecation._PRINT_DEPRECATION_WARNINGS = False\n",
    "\n",
    "import pandas as pd\n",
    "import numpy as np\n",
    "\n",
    "from sklearn.preprocessing import LabelEncoder\n",
    "from sklearn.model_selection import train_test_split\n",
    "\n",
    "from sklearn.preprocessing import MinMaxScaler\n",
    "from sklearn.preprocessing import StandardScaler\n",
    "\n",
    "from utils.labels_preprocessing import load_labels\n",
    "from utils.load_synced_inputs import load_inputs\n",
    "from utils.load_graphs import load_graph\n",
    "\n",
    "from cnn_graph.resnetgraph import cgcnn\n",
    "from cnn_graph import graph\n",
    "\n",
    "import tensorflow as tf\n",
    "# import tensorflow.compat.v1 as tf\n",
    "# tf.disable_v2_behavior() \n",
    "from matplotlib import pyplot as plt\n",
    "\n",
    "np.random.seed(42)\n",
    "tf.set_random_seed(42)"
   ]
  },
  {
   "cell_type": "markdown",
   "metadata": {},
   "source": [
    "## 2. Establish Directories for Data Extraction"
   ]
  },
  {
   "cell_type": "code",
   "execution_count": 2,
   "metadata": {
    "collapsed": true
   },
   "outputs": [],
   "source": [
    "home = f\"{os.getcwd()}/..\"\n",
    "\n",
    "graphs_dir = f\"{home}/Graphs/\"            # directory containing necessary graphs\n",
    "\n",
    "subcortical_dir = '.../Data/DL_matrices_hier_HCP/Subcortical'  # path for the HCP subcortical dataset"
   ]
  },
  {
   "cell_type": "code",
   "execution_count": 3,
   "metadata": {},
   "outputs": [
    {
     "name": "stdout",
     "output_type": "stream",
     "text": [
      "1114\n"
     ]
    }
   ],
   "source": [
    "print(len(os.listdir(subcortical_dir)))"
   ]
  },
  {
   "cell_type": "markdown",
   "metadata": {},
   "source": [
    "## 3. Load Labels"
   ]
  },
  {
   "cell_type": "code",
   "execution_count": 5,
   "metadata": {},
   "outputs": [
    {
     "data": {
      "text/html": [
       "<div>\n",
       "<style scoped>\n",
       "    .dataframe tbody tr th:only-of-type {\n",
       "        vertical-align: middle;\n",
       "    }\n",
       "\n",
       "    .dataframe tbody tr th {\n",
       "        vertical-align: top;\n",
       "    }\n",
       "\n",
       "    .dataframe thead th {\n",
       "        text-align: right;\n",
       "    }\n",
       "</style>\n",
       "<table border=\"1\" class=\"dataframe\">\n",
       "  <thead>\n",
       "    <tr style=\"text-align: right;\">\n",
       "      <th></th>\n",
       "      <th>Subject</th>\n",
       "      <th>Gender</th>\n",
       "      <th>Age_in_Yrs</th>\n",
       "      <th>CogFluidComp_Unadj</th>\n",
       "      <th>CogFluidComp_AgeAdj</th>\n",
       "    </tr>\n",
       "  </thead>\n",
       "  <tbody>\n",
       "    <tr>\n",
       "      <th>0</th>\n",
       "      <td>100206</td>\n",
       "      <td>1</td>\n",
       "      <td>27</td>\n",
       "      <td>134.34</td>\n",
       "      <td>130.07</td>\n",
       "    </tr>\n",
       "    <tr>\n",
       "      <th>1</th>\n",
       "      <td>100307</td>\n",
       "      <td>0</td>\n",
       "      <td>27</td>\n",
       "      <td>118.16</td>\n",
       "      <td>107.88</td>\n",
       "    </tr>\n",
       "    <tr>\n",
       "      <th>2</th>\n",
       "      <td>100408</td>\n",
       "      <td>1</td>\n",
       "      <td>33</td>\n",
       "      <td>116.64</td>\n",
       "      <td>113.77</td>\n",
       "    </tr>\n",
       "    <tr>\n",
       "      <th>3</th>\n",
       "      <td>100610</td>\n",
       "      <td>1</td>\n",
       "      <td>27</td>\n",
       "      <td>124.23</td>\n",
       "      <td>115.63</td>\n",
       "    </tr>\n",
       "    <tr>\n",
       "      <th>4</th>\n",
       "      <td>101006</td>\n",
       "      <td>0</td>\n",
       "      <td>35</td>\n",
       "      <td>91.44</td>\n",
       "      <td>72.02</td>\n",
       "    </tr>\n",
       "    <tr>\n",
       "      <th>5</th>\n",
       "      <td>101107</td>\n",
       "      <td>1</td>\n",
       "      <td>22</td>\n",
       "      <td>117.37</td>\n",
       "      <td>106.57</td>\n",
       "    </tr>\n",
       "    <tr>\n",
       "      <th>6</th>\n",
       "      <td>101309</td>\n",
       "      <td>1</td>\n",
       "      <td>29</td>\n",
       "      <td>107.14</td>\n",
       "      <td>90.01</td>\n",
       "    </tr>\n",
       "    <tr>\n",
       "      <th>7</th>\n",
       "      <td>101410</td>\n",
       "      <td>1</td>\n",
       "      <td>29</td>\n",
       "      <td>112.21</td>\n",
       "      <td>106.16</td>\n",
       "    </tr>\n",
       "  </tbody>\n",
       "</table>\n",
       "</div>"
      ],
      "text/plain": [
       "   Subject  Gender  Age_in_Yrs  CogFluidComp_Unadj  CogFluidComp_AgeAdj\n",
       "0   100206       1          27              134.34               130.07\n",
       "1   100307       0          27              118.16               107.88\n",
       "2   100408       1          33              116.64               113.77\n",
       "3   100610       1          27              124.23               115.63\n",
       "4   101006       0          35               91.44                72.02\n",
       "5   101107       1          22              117.37               106.57\n",
       "6   101309       1          29              107.14                90.01\n",
       "7   101410       1          29              112.21               106.16"
      ]
     },
     "execution_count": 5,
     "metadata": {},
     "output_type": "execute_result"
    }
   ],
   "source": [
    "Path = '.../hcp_data.csv'   #path for the HCP labels\n",
    "df = pd.read_csv(Path)\n",
    "df_fluid = df[['Subject','Gender','Age_in_Yrs','CogFluidComp_Unadj','CogFluidComp_AgeAdj']]   # choose the columns you want\n",
    "df_new = df_fluid.dropna(subset=['CogFluidComp_Unadj'])                                       # drop the Nan rows\n",
    "df_new.head(8)"
   ]
  },
  {
   "cell_type": "code",
   "execution_count": 12,
   "metadata": {},
   "outputs": [
    {
     "data": {
      "image/png": "[encoded data removed]",
      "text/plain": [
       "<Figure size 432x288 with 1 Axes>"
      ]
     },
     "metadata": {
      "needs_background": "light"
     },
     "output_type": "display_data"
    }
   ],
   "source": [
    "#show the distribution \n",
    "s = np.random.normal(0, 1, df_new.shape[0])\n",
    "import matplotlib.pyplot as plt\n",
    "count, bins, ignored = plt.hist(s, 30, density=True)\n",
    "plt.plot(bins, 1/( np.sqrt(2 * np.pi)) *\n",
    "                np.exp( - (bins )**2 / (2) ),\n",
    "          linewidth=2, color='r')\n",
    "plt.show()"
   ]
  },
  {
   "cell_type": "code",
   "execution_count": 13,
   "metadata": {
    "collapsed": true
   },
   "outputs": [],
   "source": [
    "def quantile_normalize_using_target(x, target):\n",
    "    \"\"\"\n",
    "    Both `x` and `target` are numpy arrays of equal lengths.\n",
    "    \"\"\"\n",
    "\n",
    "    target_sorted = np.sort(target)\n",
    "\n",
    "    return target_sorted[x.argsort().argsort()]"
   ]
  },
  {
   "cell_type": "code",
   "execution_count": 14,
   "metadata": {},
   "outputs": [
    {
     "name": "stdout",
     "output_type": "stream",
     "text": [
      "[ 1.50027461  0.25760086  0.13902869 ... -1.40481694 -0.27284455\n",
      " -0.95095338]\n"
     ]
    }
   ],
   "source": [
    "xx = quantile_normalize_using_target(df_new['CogFluidComp_Unadj'].as_matrix(),s)\n",
    "encoded_labels = xx\n",
    "print(encoded_labels)"
   ]
  },
  {
   "cell_type": "code",
   "execution_count": 15,
   "metadata": {},
   "outputs": [
    {
     "data": {
      "text/html": [
       "<div>\n",
       "<style scoped>\n",
       "    .dataframe tbody tr th:only-of-type {\n",
       "        vertical-align: middle;\n",
       "    }\n",
       "\n",
       "    .dataframe tbody tr th {\n",
       "        vertical-align: top;\n",
       "    }\n",
       "\n",
       "    .dataframe thead th {\n",
       "        text-align: right;\n",
       "    }\n",
       "</style>\n",
       "<table border=\"1\" class=\"dataframe\">\n",
       "  <thead>\n",
       "    <tr style=\"text-align: right;\">\n",
       "      <th></th>\n",
       "      <th>Subject</th>\n",
       "      <th>Gender</th>\n",
       "      <th>Age_in_Yrs</th>\n",
       "      <th>CogFluidComp_Unadj</th>\n",
       "      <th>CogFluidComp_AgeAdj</th>\n",
       "      <th>CogFluidComp_nor</th>\n",
       "    </tr>\n",
       "  </thead>\n",
       "  <tbody>\n",
       "    <tr>\n",
       "      <th>0</th>\n",
       "      <td>100206</td>\n",
       "      <td>1</td>\n",
       "      <td>27</td>\n",
       "      <td>134.34</td>\n",
       "      <td>130.07</td>\n",
       "      <td>1.500275</td>\n",
       "    </tr>\n",
       "    <tr>\n",
       "      <th>1</th>\n",
       "      <td>100307</td>\n",
       "      <td>0</td>\n",
       "      <td>27</td>\n",
       "      <td>118.16</td>\n",
       "      <td>107.88</td>\n",
       "      <td>0.257601</td>\n",
       "    </tr>\n",
       "    <tr>\n",
       "      <th>2</th>\n",
       "      <td>100408</td>\n",
       "      <td>1</td>\n",
       "      <td>33</td>\n",
       "      <td>116.64</td>\n",
       "      <td>113.77</td>\n",
       "      <td>0.139029</td>\n",
       "    </tr>\n",
       "    <tr>\n",
       "      <th>3</th>\n",
       "      <td>100610</td>\n",
       "      <td>1</td>\n",
       "      <td>27</td>\n",
       "      <td>124.23</td>\n",
       "      <td>115.63</td>\n",
       "      <td>0.728519</td>\n",
       "    </tr>\n",
       "    <tr>\n",
       "      <th>4</th>\n",
       "      <td>101006</td>\n",
       "      <td>0</td>\n",
       "      <td>35</td>\n",
       "      <td>91.44</td>\n",
       "      <td>72.02</td>\n",
       "      <td>-2.506572</td>\n",
       "    </tr>\n",
       "    <tr>\n",
       "      <th>5</th>\n",
       "      <td>101107</td>\n",
       "      <td>1</td>\n",
       "      <td>22</td>\n",
       "      <td>117.37</td>\n",
       "      <td>106.57</td>\n",
       "      <td>0.184971</td>\n",
       "    </tr>\n",
       "    <tr>\n",
       "      <th>6</th>\n",
       "      <td>101309</td>\n",
       "      <td>1</td>\n",
       "      <td>29</td>\n",
       "      <td>107.14</td>\n",
       "      <td>90.01</td>\n",
       "      <td>-0.631652</td>\n",
       "    </tr>\n",
       "    <tr>\n",
       "      <th>7</th>\n",
       "      <td>101410</td>\n",
       "      <td>1</td>\n",
       "      <td>29</td>\n",
       "      <td>112.21</td>\n",
       "      <td>106.16</td>\n",
       "      <td>-0.193428</td>\n",
       "    </tr>\n",
       "  </tbody>\n",
       "</table>\n",
       "</div>"
      ],
      "text/plain": [
       "   Subject  Gender  Age_in_Yrs  CogFluidComp_Unadj  CogFluidComp_AgeAdj  \\\n",
       "0   100206       1          27              134.34               130.07   \n",
       "1   100307       0          27              118.16               107.88   \n",
       "2   100408       1          33              116.64               113.77   \n",
       "3   100610       1          27              124.23               115.63   \n",
       "4   101006       0          35               91.44                72.02   \n",
       "5   101107       1          22              117.37               106.57   \n",
       "6   101309       1          29              107.14                90.01   \n",
       "7   101410       1          29              112.21               106.16   \n",
       "\n",
       "   CogFluidComp_nor  \n",
       "0          1.500275  \n",
       "1          0.257601  \n",
       "2          0.139029  \n",
       "3          0.728519  \n",
       "4         -2.506572  \n",
       "5          0.184971  \n",
       "6         -0.631652  \n",
       "7         -0.193428  "
      ]
     },
     "execution_count": 15,
     "metadata": {},
     "output_type": "execute_result"
    }
   ],
   "source": [
    "df_new['CogFluidComp_nor'] = pd.DataFrame({'CogFluidComp_nor': xx})\n",
    "df_new.head(8)"
   ]
  },
  {
   "cell_type": "code",
   "execution_count": 16,
   "metadata": {
    "collapsed": true
   },
   "outputs": [],
   "source": [
    "filenames = df_new['Subject'].astype('str').as_matrix()\n",
    "filenames2 = ('s' + filenames + '_SubCortical.mat').tolist()\n",
    "# print(filenames2)"
   ]
  },
  {
   "cell_type": "markdown",
   "metadata": {},
   "source": [
    "## 4. Load Input Data (SubCortical)"
   ]
  },
  {
   "cell_type": "code",
   "execution_count": 17,
   "metadata": {},
   "outputs": [
    {
     "name": "stdout",
     "output_type": "stream",
     "text": [
      "Subcortical\t(Samples, Nodes, Feat.):\t(1097, 14848, 3)\n"
     ]
    }
   ],
   "source": [
    "graph_type = {\n",
    "              'subcortical':{'path':subcortical_dir,\n",
    "                     'parts':'all_sc', \n",
    "                     'halves':False}\n",
    "             }\n",
    "X = load_inputs(graph_type=graph_type, filenames = filenames2)\n",
    "\n",
    "sub_graphs = list(graph_type.keys())\n",
    "assert sub_graphs == ['subcortical']"
   ]
  },
  {
   "cell_type": "markdown",
   "metadata": {},
   "source": [
    "## 5. Analyze Distribution of Input Data for Subcortical Surfaces"
   ]
  },
  {
   "cell_type": "code",
   "execution_count": 18,
   "metadata": {},
   "outputs": [
    {
     "data": {
      "image/png": "[encoded data removed]",
      "text/plain": [
       "<Figure size 432x288 with 1 Axes>"
      ]
     },
     "metadata": {
      "needs_background": "light"
     },
     "output_type": "display_data"
    }
   ],
   "source": [
    "all_nodes = np.concatenate([X[sub].flatten() for sub in sub_graphs])\n",
    "plt.hist( all_nodes, bins=500) \n",
    "plt.title('Vertex Cartesian Coordinate Histogram')\n",
    "plt.show()"
   ]
  },
  {
   "cell_type": "markdown",
   "metadata": {},
   "source": [
    "## 6. MinMax Normalize Input Data"
   ]
  },
  {
   "cell_type": "code",
   "execution_count": 19,
   "metadata": {},
   "outputs": [
    {
     "data": {
      "image/png": "[encoded data removed]",
      "text/plain": [
       "<Figure size 432x288 with 1 Axes>"
      ]
     },
     "metadata": {
      "needs_background": "light"
     },
     "output_type": "display_data"
    }
   ],
   "source": [
    "X_max = np.max(all_nodes)\n",
    "X_min = np.min(all_nodes)\n",
    "\n",
    "for sub in sub_graphs:\n",
    "    X[sub] = (X[sub] - X_min) / (X_max - X_min)\n",
    "    X[sub] *= 2\n",
    "    X[sub] -= 1\n",
    "    \n",
    "all_nodes = np.concatenate([X[sub].flatten() for sub in sub_graphs])\n",
    "plt.hist( all_nodes, bins=500) \n",
    "plt.title('MinMax Normalized (After Standard Norm.) Cartesian Coordinate Histogram')\n",
    "plt.show()\n",
    "\n",
    "# del all_nodes"
   ]
  },
  {
   "cell_type": "markdown",
   "metadata": {},
   "source": [
    "## 7. Block Diagonalize the SubCortical Features"
   ]
  },
  {
   "cell_type": "code",
   "execution_count": 21,
   "metadata": {
    "collapsed": true
   },
   "outputs": [],
   "source": [
    "from scipy.linalg import block_diag\n",
    "from sklearn.utils import resample\n",
    "X = X[f\"subcortical\"]"
   ]
  },
  {
   "cell_type": "markdown",
   "metadata": {},
   "source": [
    "## 8. Split the training and validation dataset using Cross-validation"
   ]
  },
  {
   "cell_type": "code",
   "execution_count": 23,
   "metadata": {
    "collapsed": true
   },
   "outputs": [],
   "source": [
    "from sklearn.model_selection import KFold\n",
    "import numpy as np\n",
    "\n",
    "T2= [i for i in range(182*1, 1097)]\n",
    "train_index =  T2 \n",
    "val_index = [j for j in range(182*0, 182*1)]\n",
    "# print(train_dex)\n",
    "# print(len(train_index))\n",
    "X_train, X_val = X[train_index], X[val_index]\n",
    "y_train, y_val = encoded_labels[train_index], encoded_labels[val_index]"
   ]
  },
  {
   "cell_type": "code",
   "execution_count": 25,
   "metadata": {},
   "outputs": [
    {
     "name": "stdout",
     "output_type": "stream",
     "text": [
      "(1097, 14848, 3) (1097,) (182, 14848, 3) (182,)\n"
     ]
    }
   ],
   "source": [
    "print(X_train.shape, y_train.shape, X_val.shape, y_val.shape)"
   ]
  },
  {
   "cell_type": "markdown",
   "metadata": {},
   "source": [
    "## 9. Load Graph Adjacencies and Convert Into Laplacians"
   ]
  },
  {
   "cell_type": "code",
   "execution_count": 26,
   "metadata": {
    "collapsed": true
   },
   "outputs": [],
   "source": [
    "L = {}\n",
    "L['subcortical'] = load_graph(graphs_folder=graphs_dir, prefix='M_sc_w')\n",
    "L['subcortical'] = [graph.laplacian(A) for A in L['subcortical']]"
   ]
  },
  {
   "cell_type": "markdown",
   "metadata": {},
   "source": [
    "## 10. Block Diagonalize the Subcortical Laplacians at Each Level of Coarsening"
   ]
  },
  {
   "cell_type": "code",
   "execution_count": 27,
   "metadata": {
    "collapsed": true
   },
   "outputs": [],
   "source": [
    "from scipy.sparse import block_diag as sparse_block_diag"
   ]
  },
  {
   "cell_type": "code",
   "execution_count": 28,
   "metadata": {
    "collapsed": true
   },
   "outputs": [],
   "source": [
    "new_L = []\n",
    "for A in zip(L[f\"subcortical\"]):\n",
    "    new_L.append(sparse_block_diag(A))\n",
    "L = new_L\n",
    "del new_L"
   ]
  },
  {
   "cell_type": "code",
   "execution_count": 29,
   "metadata": {},
   "outputs": [
    {
     "data": {
      "text/plain": [
       "[<14848x14848 sparse matrix of type '<class 'numpy.float32'>'\n",
       " \twith 103768 stored elements in Compressed Sparse Row format>,\n",
       " <7424x7424 sparse matrix of type '<class 'numpy.float32'>'\n",
       " \twith 51800 stored elements in Compressed Sparse Row format>,\n",
       " <3712x3712 sparse matrix of type '<class 'numpy.float32'>'\n",
       " \twith 25816 stored elements in Compressed Sparse Row format>,\n",
       " <1856x1856 sparse matrix of type '<class 'numpy.float32'>'\n",
       " \twith 12824 stored elements in Compressed Sparse Row format>,\n",
       " <928x928 sparse matrix of type '<class 'numpy.float32'>'\n",
       " \twith 6328 stored elements in Compressed Sparse Row format>,\n",
       " <464x464 sparse matrix of type '<class 'numpy.float32'>'\n",
       " \twith 3080 stored elements in Compressed Sparse Row format>,\n",
       " <232x232 sparse matrix of type '<class 'numpy.float32'>'\n",
       " \twith 1456 stored elements in Compressed Sparse Row format>,\n",
       " <116x116 sparse matrix of type '<class 'numpy.float32'>'\n",
       " \twith 648 stored elements in Compressed Sparse Row format>]"
      ]
     },
     "execution_count": 29,
     "metadata": {},
     "output_type": "execute_result"
    }
   ],
   "source": [
    "L"
   ]
  },
  {
   "cell_type": "markdown",
   "metadata": {},
   "source": [
    "## 11. ChebyNet Model Parameters Initialization"
   ]
  },
  {
   "cell_type": "code",
   "execution_count": 2,
   "metadata": {
    "collapsed": true
   },
   "outputs": [],
   "source": [
    "# Initial training parameters\n",
    "params = {'num_epochs': 200, \n",
    "          'batch_size': 32,\n",
    "          'eval_frequency': 10\n",
    "         }\n",
    "\n",
    "# Expected features dimension sizing of the input\n",
    "N_feat = X_train.shape[-1]\n",
    "\n",
    "params.update(task = 'regression')\n",
    "\n",
    "if N_feat == 1:\n",
    "    params['V'] = None\n",
    "elif N_feat > 1:\n",
    "    params['V'] = N_feat\n",
    "else:\n",
    "    raise ValueError('Input features dim. should be >= 1')\n",
    "\n",
    "# # Network task initialization\n",
    "# C = np.max(encoded_labels) + 1\n",
    "# params.update(M = [C]) # number of units in fully-connected layer (set to # classes for classification)  \n",
    "if params['task'] == 'classification':\n",
    "    # Number of classes.()\n",
    "    C = np.max(Gender) + 1\n",
    "    assert C == np.unique(Gender).size\n",
    "    params['M']              = [C]  # Set fully connected layer output to the number of class\n",
    "else:\n",
    "    arr = [0,0,0]\n",
    "    C = np.max(arr) + 1    \n",
    "    params['M']              = [C]\n",
    "\n",
    "# Network Architecture\n",
    "params['F']   = [16 for _ in range(4)] # number of filters per layer\n",
    "params['K']   = 3                      # polynomial order of each layer\n",
    "params['p']   = 2                      # pooling size per layer\n",
    "params['B']   = len(params['F'])       # number of ResNet blocks\n",
    "params['F_l'] = 128                     # number of post-ResNet filters\n",
    "\n",
    "# Optimization Parameters\n",
    "params['regularization'] = 0.\n",
    "params['learning_rate']  = 5e-4\n",
    "params['decay_rate']     = 0.999\n",
    "params['momentum']       = 0.\n",
    "params['dropout']        = 1.          # Using TF 1.13.1 so this is the KEEP PROBABILITY\n",
    "params['decay_steps']    = 1.\n",
    "\n",
    "# AUGMENTATION PROB. SET TO ZERO (NO AUGMENTATION)\n",
    "params.update(prob_augment = 0.)\n",
    "\n",
    "# Model Saving\n",
    "params['dir_name'] = f\"{home}/models/HCP_CogFluidScore_subcortical_3\"\n",
    "# os.mkdir(params['dir_name'])\n",
    "print(params['dir_name'])"
   ]
  },
  {
   "cell_type": "markdown",
   "metadata": {},
   "source": [
    "## 12. Create Model"
   ]
  },
  {
   "cell_type": "code",
   "execution_count": 146,
   "metadata": {
    "scrolled": true
   },
   "outputs": [
    {
     "name": "stdout",
     "output_type": "stream",
     "text": [
      "NN architecture\n",
      "  input: M_0 = 14848\n",
      " \n",
      "Pre-convolution layer:\n",
      "  biases: L_0 * F_0_ = 14848 * 16 = 237568\n",
      "  weights: V * F_0 * K_0 = 3 * 16 * 3 = 144\n",
      " \n",
      "ResNet blocks:\n",
      " Block 0\n",
      "    batch normalization: 2 * L_0 = 2 * 14848 = 29696\n",
      "    weights: F_0 * F_0 * K_0 = 16 * 16 * 3 = 768\n",
      " Block 1\n",
      "    batch normalization: 2 * L_1 = 2 * 7424 = 14848\n",
      "    weights: F_1 * F_1 * K_1 = 16 * 16 * 3 = 768\n",
      " Block 2\n",
      "    batch normalization: 2 * L_2 = 2 * 3712 = 7424\n",
      "    weights: F_2 * F_2 * K_2 = 16 * 16 * 3 = 768\n",
      " Block 3\n",
      "    batch normalization: 2 * L_3 = 2 * 1856 = 3712\n",
      "    weights: F_3 * F_3 * K_3 = 16 * 16 * 3 = 768\n",
      " \n",
      "Post-convolution layer:\n",
      "  batch normalization: 2 * L_3 = 2 * 1856 = 3712\n",
      " \n",
      "Fully connected layer:\n",
      "  weights: K_3 * M = 3 * 1 = 3\n",
      "L_post = 928 ; F_post = 128 ; K_post = 3\n"
     ]
    }
   ],
   "source": [
    "model = cgcnn(L, **params)"
   ]
  },
  {
   "cell_type": "markdown",
   "metadata": {},
   "source": [
    "## 13. Training"
   ]
  },
  {
   "cell_type": "code",
   "execution_count": 3,
   "metadata": {
    "collapsed": true
   },
   "outputs": [],
   "source": [
    "accuracy, loss, t_step = model.fit(X_train, y_train, X_val, y_val)"
   ]
  },
  {
   "cell_type": "code",
   "execution_count": null,
   "metadata": {
    "collapsed": true
   },
   "outputs": [],
   "source": [
    "plt.plot(np.arange(0, 921*2,2),accuracy)\n",
    "plt.title('Accuracy of GCN vs. Epochs')\n",
    "plt.xlabel('Epoch')\n",
    "plt.ylabel('Accuracy')\n",
    "plt.show()"
   ]
  },
  {
   "cell_type": "markdown",
   "metadata": {},
   "source": [
    "## 14. CAM & Testing for each fold after training each fold"
   ]
  },
  {
   "cell_type": "code",
   "execution_count": 153,
   "metadata": {
    "collapsed": true
   },
   "outputs": [],
   "source": [
    "a, CAM_map_a = model.predict(X_train[0:183], CAM = True)\n",
    "np.save('path',CAM_map_a)"
   ]
  },
  {
   "cell_type": "code",
   "execution_count": 154,
   "metadata": {
    "collapsed": true
   },
   "outputs": [],
   "source": [
    "b, CAM_map_b = model.predict(X_train[183*1:183*2], CAM = True)\n",
    "np.save('path',CAM_map_b)"
   ]
  },
  {
   "cell_type": "code",
   "execution_count": 155,
   "metadata": {
    "collapsed": true
   },
   "outputs": [],
   "source": [
    "c, CAM_map_c = model.predict(X_train[183*2:183*3], CAM = True)\n",
    "np.save('path',CAM_map_c)"
   ]
  },
  {
   "cell_type": "code",
   "execution_count": 156,
   "metadata": {
    "collapsed": true
   },
   "outputs": [],
   "source": [
    "d, CAM_map_d = model.predict(X_train[183*3:183*4], CAM = True)\n",
    "np.save('path',CAM_map_d)"
   ]
  },
  {
   "cell_type": "code",
   "execution_count": 157,
   "metadata": {
    "collapsed": true
   },
   "outputs": [],
   "source": [
    "e,CAM_map_e = model.predict(X_train[183*4:183*5], CAM = True)\n",
    "np.save('path',CAM_map_e)"
   ]
  },
  {
   "cell_type": "code",
   "execution_count": 158,
   "metadata": {
    "collapsed": true
   },
   "outputs": [],
   "source": [
    "f, CAM_map_f = model.predict(X_train[183*5:183*6], CAM = True)\n",
    "np.save('path',CAM_map_f)"
   ]
  },
  {
   "cell_type": "code",
   "execution_count": 4,
   "metadata": {
    "collapsed": true,
    "scrolled": true
   },
   "outputs": [],
   "source": [
    "from sklearn.metrics import r2_score\n",
    "from sklearn.metrics import mean_squared_error\n",
    "res = r2_score(y_train[183*0:183*1],a)\n",
    "print('r2', res)\n",
    "from scipy.stats import pearsonr\n",
    "corr, p_value = pearsonr(y_train[183*0:183*1],a)\n",
    "print('corr', corr, 'p', p_value)\n",
    "\n",
    "mse = mean_squared_error(y_train[183*0:183*1],a)\n",
    "print('mse', mse)"
   ]
  },
  {
   "cell_type": "code",
   "execution_count": 149,
   "metadata": {},
   "outputs": [
    {
     "name": "stdout",
     "output_type": "stream",
     "text": [
      "(1097,)\n"
     ]
    }
   ],
   "source": [
    "pred = np.concatenate((a,b,c,d,e,f))\n",
    "print(pred.shape)"
   ]
  },
  {
   "cell_type": "code",
   "execution_count": 5,
   "metadata": {
    "collapsed": true
   },
   "outputs": [],
   "source": [
    "# a = 5\n",
    "corr, p_value = pearsonr(y_train,pred)\n",
    "print('corr', corr, 'p', p_value)\n",
    "\n",
    "mse = mean_squared_error(y_train,pred)\n",
    "print('mse', mse)\n",
    "\n",
    "# predictions = model.predict(X_train[182*a:182*(a+1),:,:], CAM = False)\n",
    "plt.plot(y_train, pred, '.')"
   ]
  },
  {
   "cell_type": "code",
   "execution_count": 786,
   "metadata": {},
   "outputs": [
    {
     "name": "stdout",
     "output_type": "stream",
     "text": [
      "r2 -0.9191291568194249\n",
      "corr 0.13252468020879313 p 0.8317595574346149\n",
      "mse 0.7175656613232304\n"
     ]
    }
   ],
   "source": [
    "from sklearn.metrics import r2_score\n",
    "from sklearn.metrics import mean_squared_error\n",
    "res = r2_score(y_train[182*a:182*(a+1)],predictions)\n",
    "print('r2', res)\n",
    "from scipy.stats import pearsonr\n",
    "corr, p_value = pearsonr(y_train[182*a:182*(a+1)], predictions)\n",
    "print('corr', corr, 'p', p_value)\n",
    "\n",
    "mse = mean_squared_error(y_train[182*a:182*(a+1)], predictions)\n",
    "print('mse', mse)"
   ]
  },
  {
   "cell_type": "code",
   "execution_count": 28,
   "metadata": {},
   "outputs": [
    {
     "name": "stdout",
     "output_type": "stream",
     "text": [
      "INFO:tensorflow:Restoring parameters from C:\\Users\\physics\\YunanWu\\ADNI-master\\code/../models/HCP_CogFluidScore_subcortical_2/checkpoints\\best_model\n"
     ]
    },
    {
     "data": {
      "text/plain": [
       "[<matplotlib.lines.Line2D at 0x2a638b58e48>]"
      ]
     },
     "execution_count": 28,
     "metadata": {},
     "output_type": "execute_result"
    },
    {
     "data": {
      "image/png": "[encoded data removed]",
      "text/plain": [
       "<Figure size 432x288 with 1 Axes>"
      ]
     },
     "metadata": {
      "needs_background": "light"
     },
     "output_type": "display_data"
    }
   ],
   "source": [
    "predictions = model.predict(X_val)\n",
    "plt.plot(y_val, predictions, '.')"
   ]
  }
 ],
 "metadata": {
  "kernelspec": {
   "display_name": "Python 3",
   "language": "python",
   "name": "python3"
  },
  "language_info": {
   "codemirror_mode": {
    "name": "ipython",
    "version": 3
   },
   "file_extension": ".py",
   "mimetype": "text/x-python",
   "name": "python",
   "nbconvert_exporter": "python",
   "pygments_lexer": "ipython3",
   "version": "3.5.3"
  }
 },
 "nbformat": 4,
 "nbformat_minor": 4
}
